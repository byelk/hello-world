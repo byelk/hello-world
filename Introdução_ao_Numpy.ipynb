{
  "nbformat": 4,
  "nbformat_minor": 0,
  "metadata": {
    "colab": {
      "name": " Introdução ao Numpy",
      "provenance": [],
      "authorship_tag": "ABX9TyO0eLSK6G9ACJCDdCC8X/tq",
      "include_colab_link": true
    },
    "kernelspec": {
      "name": "python3",
      "display_name": "Python 3"
    }
  },
  "cells": [
    {
      "cell_type": "markdown",
      "metadata": {
        "id": "view-in-github",
        "colab_type": "text"
      },
      "source": [
        "<a href=\"https://colab.research.google.com/github/nosbyelk/hello-world/blob/master/Introdu%C3%A7%C3%A3o_ao_Numpy.ipynb\" target=\"_parent\"><img src=\"https://colab.research.google.com/assets/colab-badge.svg\" alt=\"Open In Colab\"/></a>"
      ]
    },
    {
      "cell_type": "markdown",
      "metadata": {
        "id": "FZfJ6PdPS5du"
      },
      "source": [
        "# Introdução ao Numpy"
      ]
    },
    {
      "cell_type": "markdown",
      "metadata": {
        "id": "efVQ0U8V45bA"
      },
      "source": [
        ""
      ]
    },
    {
      "cell_type": "code",
      "metadata": {
        "id": "ZPwqvjD6SoMr"
      },
      "source": [
        "import numpy as np"
      ],
      "execution_count": null,
      "outputs": []
    },
    {
      "cell_type": "markdown",
      "metadata": {
        "id": "eEy7VvnsT1TT"
      },
      "source": [
        "Utilize a função range do python para criar automaticamente uma lista de números variando de 0 até 15."
      ]
    },
    {
      "cell_type": "code",
      "metadata": {
        "id": "jVIyDPWPT2xN",
        "colab": {
          "base_uri": "https://localhost:8080/",
          "height": 51
        },
        "outputId": "50ae545f-9086-418e-d5f5-3864d61b2602"
      },
      "source": [
        "lista_automatica = list(range(0, 16))\n",
        "\n",
        "print (lista_automatica)\n",
        "print (type(lista_automatica))"
      ],
      "execution_count": null,
      "outputs": [
        {
          "output_type": "stream",
          "text": [
            "[0, 1, 2, 3, 4, 5, 6, 7, 8, 9, 10, 11, 12, 13, 14, 15]\n",
            "<class 'list'>\n"
          ],
          "name": "stdout"
        }
      ]
    },
    {
      "cell_type": "markdown",
      "metadata": {
        "id": "86K4wVxrUtaC"
      },
      "source": [
        "Converter a lista criada para um objeto do tipo numpy array."
      ]
    },
    {
      "cell_type": "code",
      "metadata": {
        "id": "ffRkQW02UsSl",
        "colab": {
          "base_uri": "https://localhost:8080/",
          "height": 51
        },
        "outputId": "c1f3436a-9fa1-4358-8b31-c15398e3a76d"
      },
      "source": [
        "lista_automatica_numpy = np.asarray(lista_automatica)\n",
        "print (lista_automatica_numpy)\n",
        "print (type(lista_automatica_numpy))"
      ],
      "execution_count": null,
      "outputs": [
        {
          "output_type": "stream",
          "text": [
            "[ 0  1  2  3  4  5  6  7  8  9 10 11 12 13 14 15]\n",
            "<class 'numpy.ndarray'>\n"
          ],
          "name": "stdout"
        }
      ]
    },
    {
      "cell_type": "markdown",
      "metadata": {
        "id": "Jb8EDmHYVdXk"
      },
      "source": [
        "Criar um novo array equivalente ao anterior utilizamndo diretamente os recursos do Numpy."
      ]
    },
    {
      "cell_type": "code",
      "metadata": {
        "id": "PK3Nr4WXVjHf",
        "colab": {
          "base_uri": "https://localhost:8080/",
          "height": 68
        },
        "outputId": "f43afe76-a5f6-46a0-daa3-9a8e869fb2f2"
      },
      "source": [
        "array_com_numpy = np.arange(0,16)\n",
        "print (array_com_numpy)\n",
        "print (array_com_numpy.shape)\n",
        "print (array_com_numpy.dtype)"
      ],
      "execution_count": null,
      "outputs": [
        {
          "output_type": "stream",
          "text": [
            "[ 0  1  2  3  4  5  6  7  8  9 10 11 12 13 14 15]\n",
            "(16,)\n",
            "int64\n"
          ],
          "name": "stdout"
        }
      ]
    },
    {
      "cell_type": "markdown",
      "metadata": {
        "id": "jn1u-PUnY6Jp"
      },
      "source": [
        "Transformando inteiros em float"
      ]
    },
    {
      "cell_type": "code",
      "metadata": {
        "id": "pIsjI8EzYqfx",
        "colab": {
          "base_uri": "https://localhost:8080/",
          "height": 34
        },
        "outputId": "aa962d42-a251-4e11-d49a-30d620d49935"
      },
      "source": [
        "array_com_numpy_float = array_com_numpy.astype(float)\n",
        "print (array_com_numpy_float)"
      ],
      "execution_count": null,
      "outputs": [
        {
          "output_type": "stream",
          "text": [
            "[ 0.  1.  2.  3.  4.  5.  6.  7.  8.  9. 10. 11. 12. 13. 14. 15.]\n"
          ],
          "name": "stdout"
        }
      ]
    },
    {
      "cell_type": "markdown",
      "metadata": {
        "id": "Umt2pK_CY9Os"
      },
      "source": [
        "Exemplo de matriz com mais de duas linhas.\n"
      ]
    },
    {
      "cell_type": "code",
      "metadata": {
        "id": "fYWt-s95ZDh6",
        "colab": {
          "base_uri": "https://localhost:8080/",
          "height": 85
        },
        "outputId": "c61f3e3f-53c5-4c1d-970f-5cbff3424853"
      },
      "source": [
        "M = array_com_numpy_float.reshape(4, 4)\n",
        "M\n"
      ],
      "execution_count": null,
      "outputs": [
        {
          "output_type": "execute_result",
          "data": {
            "text/plain": [
              "array([[ 0.,  1.,  2.,  3.],\n",
              "       [ 4.,  5.,  6.,  7.],\n",
              "       [ 8.,  9., 10., 11.],\n",
              "       [12., 13., 14., 15.]])"
            ]
          },
          "metadata": {
            "tags": []
          },
          "execution_count": 36
        }
      ]
    },
    {
      "cell_type": "code",
      "metadata": {
        "id": "fZc03X4UZzMF",
        "colab": {
          "base_uri": "https://localhost:8080/",
          "height": 34
        },
        "outputId": "5493986a-f9ec-4c2e-a45d-e81a3fa93ce1"
      },
      "source": [
        "array_com_numpy_float.shape"
      ],
      "execution_count": null,
      "outputs": [
        {
          "output_type": "execute_result",
          "data": {
            "text/plain": [
              "(16,)"
            ]
          },
          "metadata": {
            "tags": []
          },
          "execution_count": 35
        }
      ]
    },
    {
      "cell_type": "code",
      "metadata": {
        "id": "T_Gkrai2Z1ha",
        "colab": {
          "base_uri": "https://localhost:8080/",
          "height": 51
        },
        "outputId": "40c2b254-0900-4b70-c4e7-49a064b66060"
      },
      "source": [
        "elementos = M[0:2, 1:3]\n",
        "elementos"
      ],
      "execution_count": null,
      "outputs": [
        {
          "output_type": "execute_result",
          "data": {
            "text/plain": [
              "array([[1., 2.],\n",
              "       [5., 6.]])"
            ]
          },
          "metadata": {
            "tags": []
          },
          "execution_count": 42
        }
      ]
    },
    {
      "cell_type": "markdown",
      "metadata": {
        "id": "6Ml1fG3TbmAR"
      },
      "source": [
        "Computar a média, mediana e o desvio padrão do array resultante da questão anterior."
      ]
    },
    {
      "cell_type": "code",
      "metadata": {
        "id": "27Llmr6_bBFg",
        "colab": {
          "base_uri": "https://localhost:8080/",
          "height": 68
        },
        "outputId": "a0556537-9f83-4710-88df-01528fb9b2ca"
      },
      "source": [
        "print ('Média:', np.mean(array_com_numpy_float))\n",
        "print ('Mediana:', np.median(array_com_numpy_float))\n",
        "print ('Desvio-padrão:', np.std(array_com_numpy_float))"
      ],
      "execution_count": null,
      "outputs": [
        {
          "output_type": "stream",
          "text": [
            "Média: 7.5\n",
            "Mediana: 7.5\n",
            "Desvio-padrão: 4.6097722286464435\n"
          ],
          "name": "stdout"
        }
      ]
    },
    {
      "cell_type": "code",
      "metadata": {
        "id": "WJh-RtgKbz_7",
        "colab": {
          "base_uri": "https://localhost:8080/",
          "height": 255
        },
        "outputId": "c49866f4-96be-48d2-8cbb-082b23495103"
      },
      "source": [
        "M1 = M.copy()\n",
        "M2 = M1 - np.max(M) - 1\n",
        "print (M2)\n",
        "print ('***************')\n",
        "print (M2 * 2) \n",
        "print ('***************')\n",
        "print (M2 * 2.3) "
      ],
      "execution_count": null,
      "outputs": [
        {
          "output_type": "stream",
          "text": [
            "[[-16. -15. -14. -13.]\n",
            " [-12. -11. -10.  -9.]\n",
            " [ -8.  -7.  -6.  -5.]\n",
            " [ -4.  -3.  -2.  -1.]]\n",
            "***************\n",
            "[[-32. -30. -28. -26.]\n",
            " [-24. -22. -20. -18.]\n",
            " [-16. -14. -12. -10.]\n",
            " [ -8.  -6.  -4.  -2.]]\n",
            "***************\n",
            "[[-36.8 -34.5 -32.2 -29.9]\n",
            " [-27.6 -25.3 -23.  -20.7]\n",
            " [-18.4 -16.1 -13.8 -11.5]\n",
            " [ -9.2  -6.9  -4.6  -2.3]]\n"
          ],
          "name": "stdout"
        }
      ]
    },
    {
      "cell_type": "markdown",
      "metadata": {
        "id": "kgkT8xNDeA_h"
      },
      "source": [
        "Apresente uma contagem dos valores únicos que estão presentes no array criado na questão anterior. Siga o seguinte template: \"Quantidade de ocorrências do elemento {}: {}\""
      ]
    },
    {
      "cell_type": "code",
      "metadata": {
        "id": "SmatIDXgegXd",
        "colab": {
          "base_uri": "https://localhost:8080/",
          "height": 85
        },
        "outputId": "709afa67-4b95-436b-c8d5-3d5c667ea565"
      },
      "source": [
        "M2[1:3, 2:] = 10\n",
        "M2"
      ],
      "execution_count": null,
      "outputs": [
        {
          "output_type": "execute_result",
          "data": {
            "text/plain": [
              "array([[-16., -15., -14., -13.],\n",
              "       [-12., -11.,  10.,  10.],\n",
              "       [ -8.,  -7.,  10.,  10.],\n",
              "       [ -4.,  -3.,  -2.,  -1.]])"
            ]
          },
          "metadata": {
            "tags": []
          },
          "execution_count": 59
        }
      ]
    },
    {
      "cell_type": "code",
      "metadata": {
        "id": "XBMMqFLNeUrX",
        "colab": {
          "base_uri": "https://localhost:8080/",
          "height": 231
        },
        "outputId": "12923f54-0c2f-42c7-bbfa-a719157141dd"
      },
      "source": [
        "#Insira a resposta abaixo.\n",
        "uniques, counts = np.unique(M2, return_counts=True)\n",
        "print(uniques)\n",
        "print(counts)\n",
        "\n",
        "# [a, b ,c] [1, 2, 3]\n",
        "# [(a,1), (b,2), (c,3)]\n",
        "\n",
        "for u, c in zip (uniques, counts):\n",
        "  print ('A quantidade de vezes que (...) foi {}: {}'.format (u,c))"
      ],
      "execution_count": 1,
      "outputs": [
        {
          "output_type": "error",
          "ename": "NameError",
          "evalue": "ignored",
          "traceback": [
            "\u001b[0;31m---------------------------------------------------------------------------\u001b[0m",
            "\u001b[0;31mNameError\u001b[0m                                 Traceback (most recent call last)",
            "\u001b[0;32m<ipython-input-1-59fcc5bf0bec>\u001b[0m in \u001b[0;36m<module>\u001b[0;34m()\u001b[0m\n\u001b[1;32m      1\u001b[0m \u001b[0;31m#Insira a resposta abaixo.\u001b[0m\u001b[0;34m\u001b[0m\u001b[0;34m\u001b[0m\u001b[0;34m\u001b[0m\u001b[0m\n\u001b[0;32m----> 2\u001b[0;31m \u001b[0muniques\u001b[0m\u001b[0;34m,\u001b[0m \u001b[0mcounts\u001b[0m \u001b[0;34m=\u001b[0m \u001b[0mnp\u001b[0m\u001b[0;34m.\u001b[0m\u001b[0munique\u001b[0m\u001b[0;34m(\u001b[0m\u001b[0mM2\u001b[0m\u001b[0;34m,\u001b[0m \u001b[0mreturn_counts\u001b[0m\u001b[0;34m=\u001b[0m\u001b[0;32mTrue\u001b[0m\u001b[0;34m)\u001b[0m\u001b[0;34m\u001b[0m\u001b[0;34m\u001b[0m\u001b[0m\n\u001b[0m\u001b[1;32m      3\u001b[0m \u001b[0mprint\u001b[0m\u001b[0;34m(\u001b[0m\u001b[0muniques\u001b[0m\u001b[0;34m)\u001b[0m\u001b[0;34m\u001b[0m\u001b[0;34m\u001b[0m\u001b[0m\n\u001b[1;32m      4\u001b[0m \u001b[0mprint\u001b[0m\u001b[0;34m(\u001b[0m\u001b[0mcounts\u001b[0m\u001b[0;34m)\u001b[0m\u001b[0;34m\u001b[0m\u001b[0;34m\u001b[0m\u001b[0m\n\u001b[1;32m      5\u001b[0m \u001b[0;34m\u001b[0m\u001b[0m\n",
            "\u001b[0;31mNameError\u001b[0m: name 'np' is not defined"
          ]
        }
      ]
    },
    {
      "cell_type": "markdown",
      "metadata": {
        "id": "-ID7qRMhJ9VI"
      },
      "source": [
        "# [Aula_Dia_11_Abril] Introdução ao Numpy"
      ]
    },
    {
      "cell_type": "markdown",
      "metadata": {
        "id": "36bycdmNKFp8"
      },
      "source": [
        "13 - Realize as seguintes operações:\n",
        "Crie uma matriz com valor 3 em todas as posições com dimensionalidade (4,2). Crie uma matriz identidade de dimensionalidade (4,4). Compute o produto entre a transposta da primeira matriz e a matriz identidade, apresentado o resultado final."
      ]
    },
    {
      "cell_type": "code",
      "metadata": {
        "id": "Janz5ETZKalA",
        "colab": {
          "base_uri": "https://localhost:8080/",
          "height": 170
        },
        "outputId": "e394493a-b807-4d34-f6cd-e0be557f6a33"
      },
      "source": [
        "M3 = np.full((4,2), 3)\n",
        "\n",
        "MI = np.eye(4)\n",
        "\n",
        "print(M3)\n",
        "print(\"------\")\n",
        "print(np.transpose(M3))\n",
        "\n",
        "M3T = np.transpose(M3)\n",
        "M3MI = np.dot(M3T, MI)\n",
        "print (M3MI)"
      ],
      "execution_count": null,
      "outputs": [
        {
          "output_type": "stream",
          "text": [
            "[[3 3]\n",
            " [3 3]\n",
            " [3 3]\n",
            " [3 3]]\n",
            "------\n",
            "[[3 3 3 3]\n",
            " [3 3 3 3]]\n",
            "[[3. 3. 3. 3.]\n",
            " [3. 3. 3. 3.]]\n"
          ],
          "name": "stdout"
        }
      ]
    },
    {
      "cell_type": "markdown",
      "metadata": {
        "id": "kwcIYtJdNgHi"
      },
      "source": [
        "14 - Realize as seguintes operações:\n",
        "Crie uma nova matriz de valores inteiros de 25 até 49 com dimensionalidade (5,5).\n",
        "Crie uma nova matriz com valores uniformemente espaçados entre 0 e 1 e defina a sua dimensionalidade em (5,1).\n",
        "Concatene horizontalmente as duas matrizes criadas anteriormente."
      ]
    },
    {
      "cell_type": "code",
      "metadata": {
        "id": "3LLSbBlBN0aM",
        "colab": {
          "base_uri": "https://localhost:8080/",
          "height": 306
        },
        "outputId": "0a81de1c-41f8-4d80-83ef-21586857fe7e"
      },
      "source": [
        "M55 = np.arange(25,50).reshape(5, 5)\n",
        "M51 = np.linspace(0, 1, 5).reshape(5,1)\n",
        "\n",
        "print(M55)\n",
        "print('_'*50)\n",
        "print(M51)\n",
        "print('_'*50)\n",
        "MF = np.hstack((M55, M51))\n",
        "print (MF)"
      ],
      "execution_count": null,
      "outputs": [
        {
          "output_type": "stream",
          "text": [
            "[[25 26 27 28 29]\n",
            " [30 31 32 33 34]\n",
            " [35 36 37 38 39]\n",
            " [40 41 42 43 44]\n",
            " [45 46 47 48 49]]\n",
            "__________________________________________________\n",
            "[[0.  ]\n",
            " [0.25]\n",
            " [0.5 ]\n",
            " [0.75]\n",
            " [1.  ]]\n",
            "__________________________________________________\n",
            "[[25.   26.   27.   28.   29.    0.  ]\n",
            " [30.   31.   32.   33.   34.    0.25]\n",
            " [35.   36.   37.   38.   39.    0.5 ]\n",
            " [40.   41.   42.   43.   44.    0.75]\n",
            " [45.   46.   47.   48.   49.    1.  ]]\n"
          ],
          "name": "stdout"
        }
      ]
    },
    {
      "cell_type": "code",
      "metadata": {
        "id": "bAeqDnthQtl2",
        "colab": {
          "base_uri": "https://localhost:8080/",
          "height": 204
        },
        "outputId": "b30a6cda-ac17-4514-f078-7faf6b246e92"
      },
      "source": [
        "M17 = np.random.normal(size=36)\n",
        "\n",
        "print(M17)\n",
        "print('----------------')\n",
        "print('Max', np.max(M17))\n",
        "print('Min', np.min(M17))\n",
        "print('Mean', np.mean(M17))\n",
        "print('Std', np.std(M17))"
      ],
      "execution_count": null,
      "outputs": [
        {
          "output_type": "stream",
          "text": [
            "[ 1.97532219  1.05272801 -0.86536479  0.40717196  0.0073714  -0.38473923\n",
            "  0.64428107  0.0596361  -0.42349479 -1.70229831 -0.34665039  1.48913408\n",
            "  0.20953594  0.70198371  0.34711288 -1.33810132 -1.23598482 -0.57308829\n",
            " -0.03354054  0.90006379  1.37543419 -0.69022643 -1.9653054   0.48196831\n",
            " -0.79777858 -2.38717326  0.57815863 -1.26046059  0.76726367  0.0761325\n",
            " -0.77350052 -1.39832228  0.96902481  1.2094179  -1.01613277  0.34889409]\n",
            "----------------\n",
            "Max 1.9753221905966014\n",
            "Min -2.387173261645699\n",
            "Mean -0.09976464161269043\n",
            "Std 1.0285933469411581\n"
          ],
          "name": "stdout"
        }
      ]
    },
    {
      "cell_type": "markdown",
      "metadata": {
        "id": "CTGUKJmNRnix"
      },
      "source": [
        "18. Crie uma matriz de dimensões (50,50) com valores aleatórios entre 0 e 1 (distribuição uniforme). Exiba as duas últimas linhas da matriz."
      ]
    },
    {
      "cell_type": "code",
      "metadata": {
        "id": "7WjHDaUyRwa5",
        "colab": {
          "base_uri": "https://localhost:8080/",
          "height": 459
        },
        "outputId": "8d3de524-5981-44ec-b397-630033db9375"
      },
      "source": [
        "Q18 = np.random.rand(50,50)\n",
        "print(Q18)\n",
        "print('*'*50)\n",
        "print(Q18[-2:])"
      ],
      "execution_count": null,
      "outputs": [
        {
          "output_type": "stream",
          "text": [
            "[[0.73763552 0.46083478 0.63418797 ... 0.7540956  0.41865383 0.58557276]\n",
            " [0.17930548 0.47018083 0.10246374 ... 0.344308   0.32751821 0.32562094]\n",
            " [0.1499162  0.92344515 0.2358641  ... 0.1756365  0.48501583 0.5986453 ]\n",
            " ...\n",
            " [0.74755721 0.93359835 0.86348663 ... 0.85978947 0.21577733 0.40975277]\n",
            " [0.53810541 0.03327474 0.76154705 ... 0.56181429 0.47258241 0.13061697]\n",
            " [0.6126062  0.96302273 0.59355422 ... 0.12648478 0.44602944 0.3810087 ]]\n",
            "**************************************************\n",
            "[[0.53810541 0.03327474 0.76154705 0.03491616 0.83577784 0.19123049\n",
            "  0.59060123 0.01012229 0.16792831 0.15926794 0.60425911 0.56250842\n",
            "  0.96049275 0.25215197 0.23810379 0.70451908 0.55806854 0.89905215\n",
            "  0.72817187 0.61338918 0.56283518 0.15883824 0.47388067 0.34264189\n",
            "  0.3307393  0.09116621 0.03388824 0.56963705 0.29769959 0.91790463\n",
            "  0.75616223 0.10638444 0.88764249 0.94456349 0.17478868 0.80907173\n",
            "  0.08255975 0.07045446 0.73558542 0.11434383 0.49804572 0.38878888\n",
            "  0.6857021  0.31212155 0.31381982 0.6666629  0.54333782 0.56181429\n",
            "  0.47258241 0.13061697]\n",
            " [0.6126062  0.96302273 0.59355422 0.01269935 0.83909554 0.91829231\n",
            "  0.71288218 0.95670864 0.32144659 0.10433745 0.60169053 0.4972621\n",
            "  0.14883574 0.80344262 0.59743157 0.46533427 0.14076638 0.78615156\n",
            "  0.55155087 0.72712146 0.60032229 0.37379144 0.17568395 0.56380698\n",
            "  0.97187306 0.407917   0.14808853 0.39683412 0.36110399 0.06368836\n",
            "  0.66154765 0.77747148 0.12994847 0.26249852 0.70913484 0.69180136\n",
            "  0.19202903 0.07737236 0.37178605 0.52695509 0.65319892 0.74004183\n",
            "  0.88486691 0.22123676 0.48176786 0.82029203 0.27014142 0.12648478\n",
            "  0.44602944 0.3810087 ]]\n"
          ],
          "name": "stdout"
        }
      ]
    },
    {
      "cell_type": "markdown",
      "metadata": {
        "id": "efsiXObuTImJ"
      },
      "source": [
        "19. Utilize o array de números aleatórios anterior e apresente a soma de cada coluna. Em seguida, apresente a soma de cada linha."
      ]
    },
    {
      "cell_type": "code",
      "metadata": {
        "id": "mO0GbXGnTrFn",
        "colab": {
          "base_uri": "https://localhost:8080/",
          "height": 323
        },
        "outputId": "edec1c64-4432-46b7-fed6-8b8a1752f35a"
      },
      "source": [
        "SC = np.sum(Q18, axis=0)\n",
        "print('Col sum', SC)\n",
        "\n",
        "SR = np.sum(Q18, axis=1)\n",
        "print('Row sum', SR)"
      ],
      "execution_count": null,
      "outputs": [
        {
          "output_type": "stream",
          "text": [
            "Col sum [25.79323248 25.00135778 23.98881881 24.13702258 22.59191612 27.27382739\n",
            " 23.44830533 26.07874126 26.26798937 26.9182082  25.0181923  24.9013944\n",
            " 25.04836042 26.75366913 23.07180564 25.63340573 23.70336515 28.08804966\n",
            " 23.14811506 25.80762109 25.73894184 21.8184648  24.61374532 27.38279498\n",
            " 22.67952172 25.81642663 20.37085131 22.69234953 21.30398149 27.70064958\n",
            " 25.74023917 23.6881985  22.73629336 26.85962762 24.61769207 26.40585938\n",
            " 26.55724234 22.6144969  25.61443321 26.27247884 25.83048205 21.55682786\n",
            " 23.38897728 24.66465701 27.28678406 25.26966128 25.87087118 25.27786142\n",
            " 24.70620278 23.43615129]\n",
            "Row sum [23.76116886 22.86153016 20.67302118 25.34753381 25.25881053 24.79778221\n",
            " 23.58746515 24.77357724 26.49527102 28.26019063 28.09709395 22.28419005\n",
            " 26.29570365 20.65766161 24.32228905 19.78400653 25.97948009 23.7577517\n",
            " 22.71610704 24.74514938 25.72870527 25.96788992 29.17306775 24.34705388\n",
            " 25.77284641 25.81196801 27.41935037 24.96184098 21.63004213 23.0839647\n",
            " 27.88968504 25.41241316 25.83511936 24.54047326 27.36849233 22.52910665\n",
            " 25.02095137 22.60575736 25.37259593 25.70085363 28.27212494 26.3296176\n",
            " 24.02519246 22.30218578 22.25797949 24.47122837 26.18027812 29.39887078\n",
            " 22.47776829 24.84295549]\n"
          ],
          "name": "stdout"
        }
      ]
    },
    {
      "cell_type": "code",
      "metadata": {
        "id": "Yp5vmzqSWMuA",
        "colab": {
          "base_uri": "https://localhost:8080/",
          "height": 275
        },
        "outputId": "8d253ead-a7d8-4035-b261-84a5374fbfdf"
      },
      "source": [
        "M1 = np.full((5,5),1)\n",
        "print(M1)\n",
        "\n",
        "print('*-'*50)\n",
        "\n",
        "M1[:2, :] = 0\n",
        "M1[-2:,:] = 0\n",
        "print(M1)\n",
        "\n",
        "print('*-'*50)\n",
        "\n",
        "print (np.sum(M1, axis=1))\n",
        "print (np.sum(M1, axis=0)) \n",
        "print (np.sum(M1, axis=1))"
      ],
      "execution_count": null,
      "outputs": [
        {
          "output_type": "stream",
          "text": [
            "[[1 1 1 1 1]\n",
            " [1 1 1 1 1]\n",
            " [1 1 1 1 1]\n",
            " [1 1 1 1 1]\n",
            " [1 1 1 1 1]]\n",
            "*-*-*-*-*-*-*-*-*-*-*-*-*-*-*-*-*-*-*-*-*-*-*-*-*-*-*-*-*-*-*-*-*-*-*-*-*-*-*-*-*-*-*-*-*-*-*-*-*-*-\n",
            "[[0 0 0 0 0]\n",
            " [0 0 0 0 0]\n",
            " [1 1 1 1 1]\n",
            " [0 0 0 0 0]\n",
            " [0 0 0 0 0]]\n",
            "*-*-*-*-*-*-*-*-*-*-*-*-*-*-*-*-*-*-*-*-*-*-*-*-*-*-*-*-*-*-*-*-*-*-*-*-*-*-*-*-*-*-*-*-*-*-*-*-*-*-\n",
            "[0 0 5 0 0]\n",
            "[1 1 1 1 1]\n"
          ],
          "name": "stdout"
        }
      ]
    },
    {
      "cell_type": "markdown",
      "metadata": {
        "id": "QhmpZfiWY5rw"
      },
      "source": [
        "Crie dois arrays de 30 elementos contendo números aleatórios entre 1 a 3. Criar condição true false se estão no mesmo lugar."
      ]
    },
    {
      "cell_type": "code",
      "metadata": {
        "id": "4fWGOK_RZZiv",
        "colab": {
          "base_uri": "https://localhost:8080/",
          "height": 68
        },
        "outputId": "d0ebc94a-aa7a-40c4-acef-6affe5f8b576"
      },
      "source": [
        "ra_a1 = np.random.randint(1, 4, 10)\n",
        "ra_a2 = np.random.randint(1, 4, 10)\n",
        "\n",
        "print (ra_a1)\n",
        "print (ra_a2)\n",
        "\n",
        "ra_a1_a2 = ra_a1 == ra_a2\n",
        "print(ra_a1_a2)\n"
      ],
      "execution_count": null,
      "outputs": [
        {
          "output_type": "stream",
          "text": [
            "[3 2 3 1 3 3 3 2 3 2]\n",
            "[3 1 2 3 2 1 2 2 2 1]\n",
            "[ True False False False False False False  True False False]\n"
          ],
          "name": "stdout"
        }
      ]
    },
    {
      "cell_type": "markdown",
      "metadata": {
        "id": "dxDfgybLd2cc"
      },
      "source": [
        "# Pandas"
      ]
    },
    {
      "cell_type": "code",
      "metadata": {
        "id": "LCiRIwkjd6Kj",
        "colab": {
          "base_uri": "https://localhost:8080/",
          "height": 122
        },
        "outputId": "3a2ca109-a04a-4b94-9d7c-b6f35c2f6ed4"
      },
      "source": [
        "pip install pandas"
      ],
      "execution_count": null,
      "outputs": [
        {
          "output_type": "stream",
          "text": [
            "Requirement already satisfied: pandas in /usr/local/lib/python3.6/dist-packages (1.0.3)\n",
            "Requirement already satisfied: numpy>=1.13.3 in /usr/local/lib/python3.6/dist-packages (from pandas) (1.18.2)\n",
            "Requirement already satisfied: python-dateutil>=2.6.1 in /usr/local/lib/python3.6/dist-packages (from pandas) (2.8.1)\n",
            "Requirement already satisfied: pytz>=2017.2 in /usr/local/lib/python3.6/dist-packages (from pandas) (2018.9)\n",
            "Requirement already satisfied: six>=1.5 in /usr/local/lib/python3.6/dist-packages (from python-dateutil>=2.6.1->pandas) (1.12.0)\n"
          ],
          "name": "stdout"
        }
      ]
    },
    {
      "cell_type": "markdown",
      "metadata": {
        "id": "aP2yrwYyeBam"
      },
      "source": [
        "Introduzindo séries de dados do pandas\n",
        "1. Importar as bibliotecas pandas e numpy com os aliases 'pd' e 'np', respectivamente."
      ]
    },
    {
      "cell_type": "code",
      "metadata": {
        "id": "no8WIrefeDwy"
      },
      "source": [
        "import numpy as np\n",
        "import pandas as pd"
      ],
      "execution_count": null,
      "outputs": []
    },
    {
      "cell_type": "markdown",
      "metadata": {
        "id": "L9fJyp1WeS1h"
      },
      "source": [
        "Utilize o numpy para criar um array com 10 elementos de números inteiros aleatórios entre 50 e 100. Em seguida, transforme-o em uma série do pandas e a exiba."
      ]
    },
    {
      "cell_type": "code",
      "metadata": {
        "id": "FJphx5Ukeamd",
        "colab": {
          "base_uri": "https://localhost:8080/",
          "height": 221
        },
        "outputId": "10417a22-d5b1-4873-ca95-1f6e6fdd4ce7"
      },
      "source": [
        "lista = np.random.randint(50, 100, 10)\n",
        "print(lista)\n",
        "serie = pd.Series(lista)\n",
        "print(serie)"
      ],
      "execution_count": null,
      "outputs": [
        {
          "output_type": "stream",
          "text": [
            "[56 79 96 58 78 90 68 69 91 65]\n",
            "0    56\n",
            "1    79\n",
            "2    96\n",
            "3    58\n",
            "4    78\n",
            "5    90\n",
            "6    68\n",
            "7    69\n",
            "8    91\n",
            "9    65\n",
            "dtype: int64\n"
          ],
          "name": "stdout"
        }
      ]
    },
    {
      "cell_type": "code",
      "metadata": {
        "id": "8lcN8pp1fcjU",
        "colab": {
          "base_uri": "https://localhost:8080/",
          "height": 34
        },
        "outputId": "f9531fc8-bdbd-476d-9e1c-c77318d4bac3"
      },
      "source": [
        "indeces = [elemento for elemento in list(range(20)) if elemento%2 !=0]\n",
        "print(indeces)"
      ],
      "execution_count": null,
      "outputs": [
        {
          "output_type": "stream",
          "text": [
            "[1, 3, 5, 7, 9, 11, 13, 15, 17, 19]\n"
          ],
          "name": "stdout"
        }
      ]
    },
    {
      "cell_type": "code",
      "metadata": {
        "id": "CQ4UrR5EiLGI",
        "colab": {
          "base_uri": "https://localhost:8080/",
          "height": 85
        },
        "outputId": "dd03e99d-b9e3-44f6-d048-362266d1e541"
      },
      "source": [
        "series_2000 = pd.Series ([1,2,3], ['a', 'b', 'c'])\n",
        "series_2000"
      ],
      "execution_count": null,
      "outputs": [
        {
          "output_type": "execute_result",
          "data": {
            "text/plain": [
              "a    1\n",
              "b    2\n",
              "c    3\n",
              "dtype: int64"
            ]
          },
          "metadata": {
            "tags": []
          },
          "execution_count": 80
        }
      ]
    },
    {
      "cell_type": "markdown",
      "metadata": {
        "id": "gC_PnfZSLzy9"
      },
      "source": [
        "# [Aula_Dia_02_Maio] Introduzindo Dataframes\n"
      ]
    },
    {
      "cell_type": "code",
      "metadata": {
        "id": "kb1zti3XMn7a"
      },
      "source": [
        "import pandas as pd"
      ],
      "execution_count": null,
      "outputs": []
    },
    {
      "cell_type": "markdown",
      "metadata": {
        "id": "X-_FwpFsNKWG"
      },
      "source": [
        "Abaixo são definidos dois dicionários contendo capitais brasileiras com a população estimada para os anos de 2000 e 2018. Utilize ambos os dicionários definidos abaixos para criar dois objetos do tipo Series."
      ]
    },
    {
      "cell_type": "code",
      "metadata": {
        "id": "7S3jIA1mN3m6",
        "colab": {
          "base_uri": "https://localhost:8080/",
          "height": 268
        },
        "outputId": "932946aa-0966-4651-f661-d366500ed395"
      },
      "source": [
        "populacao2000 = {'São Paulo': 10405867, 'Rio de Janeiro': 5851914, 'Salvador': 2440828, 'Belo Horizonte':2232747, 'Fortaleza':2138234\t}\n",
        "populacao2018 = {'São Paulo': 12176866, 'Rio de Janeiro': 6688927, 'Brasília': 2974703, 'Salvador': 2857329, 'Fortaleza': 2643247}\n",
        "\n",
        "serie_2000 = pd.Series(list(populacao2000.values()), populacao2000.keys())\n",
        "print('Ano 2000 \\n',serie_2000)\n",
        "\n",
        "serie_2018 = pd.Series(list(populacao2018.values()), populacao2018.keys())\n",
        "print('Ano 2018 \\n',serie_2018)"
      ],
      "execution_count": null,
      "outputs": [
        {
          "output_type": "stream",
          "text": [
            "Ano 2000 \n",
            " São Paulo         10405867\n",
            "Rio de Janeiro     5851914\n",
            "Salvador           2440828\n",
            "Belo Horizonte     2232747\n",
            "Fortaleza          2138234\n",
            "dtype: int64\n",
            "Ano 2018 \n",
            " São Paulo         12176866\n",
            "Rio de Janeiro     6688927\n",
            "Brasília           2974703\n",
            "Salvador           2857329\n",
            "Fortaleza          2643247\n",
            "dtype: int64\n"
          ],
          "name": "stdout"
        }
      ]
    },
    {
      "cell_type": "markdown",
      "metadata": {
        "id": "s9Scva7dOy4D"
      },
      "source": [
        "Crie uma nova série contendo a diferença entre as populações de 2018 e 2000."
      ]
    },
    {
      "cell_type": "code",
      "metadata": {
        "id": "1yxX3jduO1Ad",
        "colab": {
          "base_uri": "https://localhost:8080/",
          "height": 142
        },
        "outputId": "8707c87d-f494-4a53-dbdc-4d5a3129a45e"
      },
      "source": [
        "dif2018_2000 = (serie_2018 - serie_2000)\n",
        "print(dif2018_2000)"
      ],
      "execution_count": null,
      "outputs": [
        {
          "output_type": "stream",
          "text": [
            "Belo Horizonte          NaN\n",
            "Brasília                NaN\n",
            "Fortaleza          505013.0\n",
            "Rio de Janeiro     837013.0\n",
            "Salvador           416501.0\n",
            "São Paulo         1770999.0\n",
            "dtype: float64\n"
          ],
          "name": "stdout"
        }
      ]
    },
    {
      "cell_type": "markdown",
      "metadata": {
        "id": "azO085xzPDCH"
      },
      "source": [
        "Crie uma nova série contendo a média entre as duas séries iniciais.\n",
        "\n"
      ]
    },
    {
      "cell_type": "code",
      "metadata": {
        "id": "nmHEf1VaPD_E",
        "colab": {
          "base_uri": "https://localhost:8080/",
          "height": 142
        },
        "outputId": "23dcdb8c-610c-4fe4-f2f9-4efe52e1d1ee"
      },
      "source": [
        "mean_dif = (serie_2018 - serie_2000)/2\n",
        "\n",
        "print(mean_dif)"
      ],
      "execution_count": null,
      "outputs": [
        {
          "output_type": "stream",
          "text": [
            "Belo Horizonte         NaN\n",
            "Brasília               NaN\n",
            "Fortaleza         252506.5\n",
            "Rio de Janeiro    418506.5\n",
            "Salvador          208250.5\n",
            "São Paulo         885499.5\n",
            "dtype: float64\n"
          ],
          "name": "stdout"
        }
      ]
    },
    {
      "cell_type": "code",
      "metadata": {
        "id": "nCLB2ydFPcKE",
        "colab": {
          "base_uri": "https://localhost:8080/",
          "height": 217
        },
        "outputId": "924c872b-599e-42f4-8421-1af00998a6c8"
      },
      "source": [
        "dic = {2000:serie_2000, 2018: serie_2018, \n",
        "       'diferenca':dif2018_2000, 'media':mean_dif}\n",
        "\n",
        "df = pd.DataFrame(dic)\n",
        "\n",
        "df"
      ],
      "execution_count": null,
      "outputs": [
        {
          "output_type": "execute_result",
          "data": {
            "text/html": [
              "<div>\n",
              "<style scoped>\n",
              "    .dataframe tbody tr th:only-of-type {\n",
              "        vertical-align: middle;\n",
              "    }\n",
              "\n",
              "    .dataframe tbody tr th {\n",
              "        vertical-align: top;\n",
              "    }\n",
              "\n",
              "    .dataframe thead th {\n",
              "        text-align: right;\n",
              "    }\n",
              "</style>\n",
              "<table border=\"1\" class=\"dataframe\">\n",
              "  <thead>\n",
              "    <tr style=\"text-align: right;\">\n",
              "      <th></th>\n",
              "      <th>2000</th>\n",
              "      <th>2018</th>\n",
              "      <th>diferenca</th>\n",
              "      <th>media</th>\n",
              "    </tr>\n",
              "  </thead>\n",
              "  <tbody>\n",
              "    <tr>\n",
              "      <th>Belo Horizonte</th>\n",
              "      <td>2232747.0</td>\n",
              "      <td>NaN</td>\n",
              "      <td>NaN</td>\n",
              "      <td>NaN</td>\n",
              "    </tr>\n",
              "    <tr>\n",
              "      <th>Brasília</th>\n",
              "      <td>NaN</td>\n",
              "      <td>2974703.0</td>\n",
              "      <td>NaN</td>\n",
              "      <td>NaN</td>\n",
              "    </tr>\n",
              "    <tr>\n",
              "      <th>Fortaleza</th>\n",
              "      <td>2138234.0</td>\n",
              "      <td>2643247.0</td>\n",
              "      <td>505013.0</td>\n",
              "      <td>252506.5</td>\n",
              "    </tr>\n",
              "    <tr>\n",
              "      <th>Rio de Janeiro</th>\n",
              "      <td>5851914.0</td>\n",
              "      <td>6688927.0</td>\n",
              "      <td>837013.0</td>\n",
              "      <td>418506.5</td>\n",
              "    </tr>\n",
              "    <tr>\n",
              "      <th>Salvador</th>\n",
              "      <td>2440828.0</td>\n",
              "      <td>2857329.0</td>\n",
              "      <td>416501.0</td>\n",
              "      <td>208250.5</td>\n",
              "    </tr>\n",
              "    <tr>\n",
              "      <th>São Paulo</th>\n",
              "      <td>10405867.0</td>\n",
              "      <td>12176866.0</td>\n",
              "      <td>1770999.0</td>\n",
              "      <td>885499.5</td>\n",
              "    </tr>\n",
              "  </tbody>\n",
              "</table>\n",
              "</div>"
            ],
            "text/plain": [
              "                      2000        2018  diferenca     media\n",
              "Belo Horizonte   2232747.0         NaN        NaN       NaN\n",
              "Brasília               NaN   2974703.0        NaN       NaN\n",
              "Fortaleza        2138234.0   2643247.0   505013.0  252506.5\n",
              "Rio de Janeiro   5851914.0   6688927.0   837013.0  418506.5\n",
              "Salvador         2440828.0   2857329.0   416501.0  208250.5\n",
              "São Paulo       10405867.0  12176866.0  1770999.0  885499.5"
            ]
          },
          "metadata": {
            "tags": []
          },
          "execution_count": 10
        }
      ]
    },
    {
      "cell_type": "code",
      "metadata": {
        "id": "VczAOKR2QfoB",
        "colab": {
          "base_uri": "https://localhost:8080/",
          "height": 217
        },
        "outputId": "2b8caf14-c391-4bb6-a8cb-be1bb8d240df"
      },
      "source": [
        "data_frame_all = pd.concat([serie_2000, serie_2018, dif2018_2000, mean_dif], axis = 1, keys=dic.keys())\n",
        "data_frame_all"
      ],
      "execution_count": null,
      "outputs": [
        {
          "output_type": "execute_result",
          "data": {
            "text/html": [
              "<div>\n",
              "<style scoped>\n",
              "    .dataframe tbody tr th:only-of-type {\n",
              "        vertical-align: middle;\n",
              "    }\n",
              "\n",
              "    .dataframe tbody tr th {\n",
              "        vertical-align: top;\n",
              "    }\n",
              "\n",
              "    .dataframe thead th {\n",
              "        text-align: right;\n",
              "    }\n",
              "</style>\n",
              "<table border=\"1\" class=\"dataframe\">\n",
              "  <thead>\n",
              "    <tr style=\"text-align: right;\">\n",
              "      <th></th>\n",
              "      <th>2000</th>\n",
              "      <th>2018</th>\n",
              "      <th>diferenca</th>\n",
              "      <th>media</th>\n",
              "    </tr>\n",
              "  </thead>\n",
              "  <tbody>\n",
              "    <tr>\n",
              "      <th>São Paulo</th>\n",
              "      <td>10405867.0</td>\n",
              "      <td>12176866.0</td>\n",
              "      <td>1770999.0</td>\n",
              "      <td>885499.5</td>\n",
              "    </tr>\n",
              "    <tr>\n",
              "      <th>Rio de Janeiro</th>\n",
              "      <td>5851914.0</td>\n",
              "      <td>6688927.0</td>\n",
              "      <td>837013.0</td>\n",
              "      <td>418506.5</td>\n",
              "    </tr>\n",
              "    <tr>\n",
              "      <th>Salvador</th>\n",
              "      <td>2440828.0</td>\n",
              "      <td>2857329.0</td>\n",
              "      <td>416501.0</td>\n",
              "      <td>208250.5</td>\n",
              "    </tr>\n",
              "    <tr>\n",
              "      <th>Belo Horizonte</th>\n",
              "      <td>2232747.0</td>\n",
              "      <td>NaN</td>\n",
              "      <td>NaN</td>\n",
              "      <td>NaN</td>\n",
              "    </tr>\n",
              "    <tr>\n",
              "      <th>Fortaleza</th>\n",
              "      <td>2138234.0</td>\n",
              "      <td>2643247.0</td>\n",
              "      <td>505013.0</td>\n",
              "      <td>252506.5</td>\n",
              "    </tr>\n",
              "    <tr>\n",
              "      <th>Brasília</th>\n",
              "      <td>NaN</td>\n",
              "      <td>2974703.0</td>\n",
              "      <td>NaN</td>\n",
              "      <td>NaN</td>\n",
              "    </tr>\n",
              "  </tbody>\n",
              "</table>\n",
              "</div>"
            ],
            "text/plain": [
              "                      2000        2018  diferenca     media\n",
              "São Paulo       10405867.0  12176866.0  1770999.0  885499.5\n",
              "Rio de Janeiro   5851914.0   6688927.0   837013.0  418506.5\n",
              "Salvador         2440828.0   2857329.0   416501.0  208250.5\n",
              "Belo Horizonte   2232747.0         NaN        NaN       NaN\n",
              "Fortaleza        2138234.0   2643247.0   505013.0  252506.5\n",
              "Brasília               NaN   2974703.0        NaN       NaN"
            ]
          },
          "metadata": {
            "tags": []
          },
          "execution_count": 15
        }
      ]
    },
    {
      "cell_type": "markdown",
      "metadata": {
        "id": "zkge3r8HSLCq"
      },
      "source": [
        "Adicione uma nova coluna ao dataframe anterior chamada 2019, esta deve conter um acréscimo de 50000 sobre os valores da coluna 2018."
      ]
    },
    {
      "cell_type": "code",
      "metadata": {
        "id": "6XgT1tTeSQQZ",
        "colab": {
          "base_uri": "https://localhost:8080/",
          "height": 302
        },
        "outputId": "823429ef-74a5-4a27-b216-3d4f87e72045"
      },
      "source": [
        "data_frame_all[2019] = data_frame_all[2018] + 50000\n",
        "data_frame_all\n"
      ],
      "execution_count": null,
      "outputs": [
        {
          "output_type": "execute_result",
          "data": {
            "text/html": [
              "<div>\n",
              "<style scoped>\n",
              "    .dataframe tbody tr th:only-of-type {\n",
              "        vertical-align: middle;\n",
              "    }\n",
              "\n",
              "    .dataframe tbody tr th {\n",
              "        vertical-align: top;\n",
              "    }\n",
              "\n",
              "    .dataframe thead th {\n",
              "        text-align: right;\n",
              "    }\n",
              "</style>\n",
              "<table border=\"1\" class=\"dataframe\">\n",
              "  <thead>\n",
              "    <tr style=\"text-align: right;\">\n",
              "      <th></th>\n",
              "      <th>2000</th>\n",
              "      <th>2018</th>\n",
              "      <th>diferenca</th>\n",
              "      <th>media</th>\n",
              "      <th>2019</th>\n",
              "      <th>(2019, 2020)</th>\n",
              "      <th>(2019, 2021, 2020)</th>\n",
              "      <th>(2019, 2023)</th>\n",
              "    </tr>\n",
              "  </thead>\n",
              "  <tbody>\n",
              "    <tr>\n",
              "      <th>São Paulo</th>\n",
              "      <td>10405867.0</td>\n",
              "      <td>12176866.0</td>\n",
              "      <td>1770999.0</td>\n",
              "      <td>885499.5</td>\n",
              "      <td>12226866.0</td>\n",
              "      <td>12226866.0</td>\n",
              "      <td>99</td>\n",
              "      <td>12226866.0</td>\n",
              "    </tr>\n",
              "    <tr>\n",
              "      <th>Rio de Janeiro</th>\n",
              "      <td>5851914.0</td>\n",
              "      <td>6688927.0</td>\n",
              "      <td>837013.0</td>\n",
              "      <td>418506.5</td>\n",
              "      <td>6738927.0</td>\n",
              "      <td>6738927.0</td>\n",
              "      <td>99</td>\n",
              "      <td>6738927.0</td>\n",
              "    </tr>\n",
              "    <tr>\n",
              "      <th>Salvador</th>\n",
              "      <td>2440828.0</td>\n",
              "      <td>2857329.0</td>\n",
              "      <td>416501.0</td>\n",
              "      <td>208250.5</td>\n",
              "      <td>2907329.0</td>\n",
              "      <td>2907329.0</td>\n",
              "      <td>99</td>\n",
              "      <td>2907329.0</td>\n",
              "    </tr>\n",
              "    <tr>\n",
              "      <th>Belo Horizonte</th>\n",
              "      <td>2232747.0</td>\n",
              "      <td>NaN</td>\n",
              "      <td>NaN</td>\n",
              "      <td>NaN</td>\n",
              "      <td>NaN</td>\n",
              "      <td>NaN</td>\n",
              "      <td>99</td>\n",
              "      <td>NaN</td>\n",
              "    </tr>\n",
              "    <tr>\n",
              "      <th>Fortaleza</th>\n",
              "      <td>2138234.0</td>\n",
              "      <td>2643247.0</td>\n",
              "      <td>505013.0</td>\n",
              "      <td>252506.5</td>\n",
              "      <td>2693247.0</td>\n",
              "      <td>2693247.0</td>\n",
              "      <td>99</td>\n",
              "      <td>2693247.0</td>\n",
              "    </tr>\n",
              "    <tr>\n",
              "      <th>Brasília</th>\n",
              "      <td>NaN</td>\n",
              "      <td>2974703.0</td>\n",
              "      <td>NaN</td>\n",
              "      <td>NaN</td>\n",
              "      <td>3024703.0</td>\n",
              "      <td>3024703.0</td>\n",
              "      <td>99</td>\n",
              "      <td>3024703.0</td>\n",
              "    </tr>\n",
              "  </tbody>\n",
              "</table>\n",
              "</div>"
            ],
            "text/plain": [
              "                      2000        2018  ...  (2019, 2021, 2020)  (2019, 2023)\n",
              "São Paulo       10405867.0  12176866.0  ...                  99    12226866.0\n",
              "Rio de Janeiro   5851914.0   6688927.0  ...                  99     6738927.0\n",
              "Salvador         2440828.0   2857329.0  ...                  99     2907329.0\n",
              "Belo Horizonte   2232747.0         NaN  ...                  99           NaN\n",
              "Fortaleza        2138234.0   2643247.0  ...                  99     2693247.0\n",
              "Brasília               NaN   2974703.0  ...                  99     3024703.0\n",
              "\n",
              "[6 rows x 8 columns]"
            ]
          },
          "metadata": {
            "tags": []
          },
          "execution_count": 33
        }
      ]
    },
    {
      "cell_type": "code",
      "metadata": {
        "id": "IfwES2kWU5_B",
        "colab": {
          "base_uri": "https://localhost:8080/",
          "height": 409
        },
        "outputId": "489f9eb0-f9c9-4e49-c317-99be2702fa55"
      },
      "source": [
        "data_frame_all.iloc[3][2019] = 50\n",
        "data_frame_all"
      ],
      "execution_count": null,
      "outputs": [
        {
          "output_type": "stream",
          "text": [
            "/usr/local/lib/python3.6/dist-packages/ipykernel_launcher.py:1: SettingWithCopyWarning: \n",
            "A value is trying to be set on a copy of a slice from a DataFrame\n",
            "\n",
            "See the caveats in the documentation: https://pandas.pydata.org/pandas-docs/stable/user_guide/indexing.html#returning-a-view-versus-a-copy\n",
            "  \"\"\"Entry point for launching an IPython kernel.\n"
          ],
          "name": "stderr"
        },
        {
          "output_type": "execute_result",
          "data": {
            "text/html": [
              "<div>\n",
              "<style scoped>\n",
              "    .dataframe tbody tr th:only-of-type {\n",
              "        vertical-align: middle;\n",
              "    }\n",
              "\n",
              "    .dataframe tbody tr th {\n",
              "        vertical-align: top;\n",
              "    }\n",
              "\n",
              "    .dataframe thead th {\n",
              "        text-align: right;\n",
              "    }\n",
              "</style>\n",
              "<table border=\"1\" class=\"dataframe\">\n",
              "  <thead>\n",
              "    <tr style=\"text-align: right;\">\n",
              "      <th></th>\n",
              "      <th>2000</th>\n",
              "      <th>2018</th>\n",
              "      <th>diferenca</th>\n",
              "      <th>media</th>\n",
              "      <th>2019</th>\n",
              "      <th>(2019, 2020)</th>\n",
              "      <th>(2019, 2021, 2020)</th>\n",
              "      <th>(2019, 2023)</th>\n",
              "    </tr>\n",
              "  </thead>\n",
              "  <tbody>\n",
              "    <tr>\n",
              "      <th>São Paulo</th>\n",
              "      <td>10405867.0</td>\n",
              "      <td>12176866.0</td>\n",
              "      <td>1770999.0</td>\n",
              "      <td>885499.5</td>\n",
              "      <td>12226866.0</td>\n",
              "      <td>12226866.0</td>\n",
              "      <td>99</td>\n",
              "      <td>12226866.0</td>\n",
              "    </tr>\n",
              "    <tr>\n",
              "      <th>Rio de Janeiro</th>\n",
              "      <td>5851914.0</td>\n",
              "      <td>6688927.0</td>\n",
              "      <td>837013.0</td>\n",
              "      <td>418506.5</td>\n",
              "      <td>6738927.0</td>\n",
              "      <td>6738927.0</td>\n",
              "      <td>99</td>\n",
              "      <td>6738927.0</td>\n",
              "    </tr>\n",
              "    <tr>\n",
              "      <th>Salvador</th>\n",
              "      <td>2440828.0</td>\n",
              "      <td>2857329.0</td>\n",
              "      <td>416501.0</td>\n",
              "      <td>208250.5</td>\n",
              "      <td>2907329.0</td>\n",
              "      <td>2907329.0</td>\n",
              "      <td>99</td>\n",
              "      <td>2907329.0</td>\n",
              "    </tr>\n",
              "    <tr>\n",
              "      <th>Belo Horizonte</th>\n",
              "      <td>2232747.0</td>\n",
              "      <td>NaN</td>\n",
              "      <td>NaN</td>\n",
              "      <td>NaN</td>\n",
              "      <td>NaN</td>\n",
              "      <td>NaN</td>\n",
              "      <td>99</td>\n",
              "      <td>NaN</td>\n",
              "    </tr>\n",
              "    <tr>\n",
              "      <th>Fortaleza</th>\n",
              "      <td>2138234.0</td>\n",
              "      <td>2643247.0</td>\n",
              "      <td>505013.0</td>\n",
              "      <td>252506.5</td>\n",
              "      <td>2693247.0</td>\n",
              "      <td>2693247.0</td>\n",
              "      <td>99</td>\n",
              "      <td>2693247.0</td>\n",
              "    </tr>\n",
              "    <tr>\n",
              "      <th>Brasília</th>\n",
              "      <td>NaN</td>\n",
              "      <td>2974703.0</td>\n",
              "      <td>NaN</td>\n",
              "      <td>NaN</td>\n",
              "      <td>3024703.0</td>\n",
              "      <td>3024703.0</td>\n",
              "      <td>99</td>\n",
              "      <td>3024703.0</td>\n",
              "    </tr>\n",
              "  </tbody>\n",
              "</table>\n",
              "</div>"
            ],
            "text/plain": [
              "                      2000        2018  ...  (2019, 2021, 2020)  (2019, 2023)\n",
              "São Paulo       10405867.0  12176866.0  ...                  99    12226866.0\n",
              "Rio de Janeiro   5851914.0   6688927.0  ...                  99     6738927.0\n",
              "Salvador         2440828.0   2857329.0  ...                  99     2907329.0\n",
              "Belo Horizonte   2232747.0         NaN  ...                  99           NaN\n",
              "Fortaleza        2138234.0   2643247.0  ...                  99     2693247.0\n",
              "Brasília               NaN   2974703.0  ...                  99     3024703.0\n",
              "\n",
              "[6 rows x 8 columns]"
            ]
          },
          "metadata": {
            "tags": []
          },
          "execution_count": 36
        }
      ]
    },
    {
      "cell_type": "markdown",
      "metadata": {
        "id": "V2q1GNTyV3bg"
      },
      "source": [
        "Exiba somente os dados referentes a Salvador.\n",
        "\n"
      ]
    },
    {
      "cell_type": "code",
      "metadata": {
        "id": "tEdVn7phV_CL",
        "colab": {
          "base_uri": "https://localhost:8080/",
          "height": 173
        },
        "outputId": "e6f4edeb-7824-4912-e9e5-07fd1cae92a7"
      },
      "source": [
        "data_frame_all.loc['Salvador']"
      ],
      "execution_count": null,
      "outputs": [
        {
          "output_type": "execute_result",
          "data": {
            "text/plain": [
              "2000                  2440828.0\n",
              "2018                  2857329.0\n",
              "diferenca              416501.0\n",
              "media                  208250.5\n",
              "2019                  2907329.0\n",
              "(2019, 2020)          2907329.0\n",
              "(2019, 2021, 2020)         99.0\n",
              "(2019, 2023)          2907329.0\n",
              "Name: Salvador, dtype: float64"
            ]
          },
          "metadata": {
            "tags": []
          },
          "execution_count": 29
        }
      ]
    },
    {
      "cell_type": "code",
      "metadata": {
        "id": "G1Syvsa2WhuT",
        "colab": {
          "base_uri": "https://localhost:8080/",
          "height": 141
        },
        "outputId": "0eec4234-a5ff-4efe-f197-4c7fe926f533"
      },
      "source": [
        "data_frame_all.iloc[:3, :2]"
      ],
      "execution_count": null,
      "outputs": [
        {
          "output_type": "execute_result",
          "data": {
            "text/html": [
              "<div>\n",
              "<style scoped>\n",
              "    .dataframe tbody tr th:only-of-type {\n",
              "        vertical-align: middle;\n",
              "    }\n",
              "\n",
              "    .dataframe tbody tr th {\n",
              "        vertical-align: top;\n",
              "    }\n",
              "\n",
              "    .dataframe thead th {\n",
              "        text-align: right;\n",
              "    }\n",
              "</style>\n",
              "<table border=\"1\" class=\"dataframe\">\n",
              "  <thead>\n",
              "    <tr style=\"text-align: right;\">\n",
              "      <th></th>\n",
              "      <th>2000</th>\n",
              "      <th>2018</th>\n",
              "    </tr>\n",
              "  </thead>\n",
              "  <tbody>\n",
              "    <tr>\n",
              "      <th>São Paulo</th>\n",
              "      <td>10405867.0</td>\n",
              "      <td>12176866.0</td>\n",
              "    </tr>\n",
              "    <tr>\n",
              "      <th>Rio de Janeiro</th>\n",
              "      <td>5851914.0</td>\n",
              "      <td>6688927.0</td>\n",
              "    </tr>\n",
              "    <tr>\n",
              "      <th>Salvador</th>\n",
              "      <td>2440828.0</td>\n",
              "      <td>2857329.0</td>\n",
              "    </tr>\n",
              "  </tbody>\n",
              "</table>\n",
              "</div>"
            ],
            "text/plain": [
              "                      2000        2018\n",
              "São Paulo       10405867.0  12176866.0\n",
              "Rio de Janeiro   5851914.0   6688927.0\n",
              "Salvador         2440828.0   2857329.0"
            ]
          },
          "metadata": {
            "tags": []
          },
          "execution_count": 30
        }
      ]
    },
    {
      "cell_type": "code",
      "metadata": {
        "id": "rRtEpDXfYG2P",
        "colab": {
          "base_uri": "https://localhost:8080/",
          "height": 141
        },
        "outputId": "d1b0cec8-cd27-4bae-ac9b-e1db8fa9b0b2"
      },
      "source": [
        "data_frame_all[[2000, 2018]].loc[['Fortaleza', 'São Paulo', 'Salvador']]"
      ],
      "execution_count": null,
      "outputs": [
        {
          "output_type": "execute_result",
          "data": {
            "text/html": [
              "<div>\n",
              "<style scoped>\n",
              "    .dataframe tbody tr th:only-of-type {\n",
              "        vertical-align: middle;\n",
              "    }\n",
              "\n",
              "    .dataframe tbody tr th {\n",
              "        vertical-align: top;\n",
              "    }\n",
              "\n",
              "    .dataframe thead th {\n",
              "        text-align: right;\n",
              "    }\n",
              "</style>\n",
              "<table border=\"1\" class=\"dataframe\">\n",
              "  <thead>\n",
              "    <tr style=\"text-align: right;\">\n",
              "      <th></th>\n",
              "      <th>2000</th>\n",
              "      <th>2018</th>\n",
              "    </tr>\n",
              "  </thead>\n",
              "  <tbody>\n",
              "    <tr>\n",
              "      <th>Fortaleza</th>\n",
              "      <td>2138234.0</td>\n",
              "      <td>2643247.0</td>\n",
              "    </tr>\n",
              "    <tr>\n",
              "      <th>São Paulo</th>\n",
              "      <td>10405867.0</td>\n",
              "      <td>12176866.0</td>\n",
              "    </tr>\n",
              "    <tr>\n",
              "      <th>Salvador</th>\n",
              "      <td>2440828.0</td>\n",
              "      <td>2857329.0</td>\n",
              "    </tr>\n",
              "  </tbody>\n",
              "</table>\n",
              "</div>"
            ],
            "text/plain": [
              "                 2000        2018\n",
              "Fortaleza   2138234.0   2643247.0\n",
              "São Paulo  10405867.0  12176866.0\n",
              "Salvador    2440828.0   2857329.0"
            ]
          },
          "metadata": {
            "tags": []
          },
          "execution_count": 39
        }
      ]
    },
    {
      "cell_type": "code",
      "metadata": {
        "id": "cC8qv8-JavdX",
        "colab": {
          "base_uri": "https://localhost:8080/",
          "height": 348
        },
        "outputId": "d8c96009-7182-4f28-f493-afee2247094f"
      },
      "source": [
        "data_frame_all.drop(inplace=True)\n",
        "data_frame_all"
      ],
      "execution_count": null,
      "outputs": [
        {
          "output_type": "error",
          "ename": "ValueError",
          "evalue": "ignored",
          "traceback": [
            "\u001b[0;31m---------------------------------------------------------------------------\u001b[0m",
            "\u001b[0;31mValueError\u001b[0m                                Traceback (most recent call last)",
            "\u001b[0;32m<ipython-input-51-60fdc0ae80c5>\u001b[0m in \u001b[0;36m<module>\u001b[0;34m()\u001b[0m\n\u001b[0;32m----> 1\u001b[0;31m \u001b[0mdata_frame_all\u001b[0m\u001b[0;34m.\u001b[0m\u001b[0mdrop\u001b[0m\u001b[0;34m(\u001b[0m\u001b[0minplace\u001b[0m\u001b[0;34m=\u001b[0m\u001b[0;32mTrue\u001b[0m\u001b[0;34m)\u001b[0m\u001b[0;34m\u001b[0m\u001b[0;34m\u001b[0m\u001b[0m\n\u001b[0m\u001b[1;32m      2\u001b[0m \u001b[0mdata_frame_all\u001b[0m\u001b[0;34m\u001b[0m\u001b[0;34m\u001b[0m\u001b[0m\n",
            "\u001b[0;32m/usr/local/lib/python3.6/dist-packages/pandas/core/frame.py\u001b[0m in \u001b[0;36mdrop\u001b[0;34m(self, labels, axis, index, columns, level, inplace, errors)\u001b[0m\n\u001b[1;32m   3995\u001b[0m             \u001b[0mlevel\u001b[0m\u001b[0;34m=\u001b[0m\u001b[0mlevel\u001b[0m\u001b[0;34m,\u001b[0m\u001b[0;34m\u001b[0m\u001b[0;34m\u001b[0m\u001b[0m\n\u001b[1;32m   3996\u001b[0m             \u001b[0minplace\u001b[0m\u001b[0;34m=\u001b[0m\u001b[0minplace\u001b[0m\u001b[0;34m,\u001b[0m\u001b[0;34m\u001b[0m\u001b[0;34m\u001b[0m\u001b[0m\n\u001b[0;32m-> 3997\u001b[0;31m             \u001b[0merrors\u001b[0m\u001b[0;34m=\u001b[0m\u001b[0merrors\u001b[0m\u001b[0;34m,\u001b[0m\u001b[0;34m\u001b[0m\u001b[0;34m\u001b[0m\u001b[0m\n\u001b[0m\u001b[1;32m   3998\u001b[0m         )\n\u001b[1;32m   3999\u001b[0m \u001b[0;34m\u001b[0m\u001b[0m\n",
            "\u001b[0;32m/usr/local/lib/python3.6/dist-packages/pandas/core/generic.py\u001b[0m in \u001b[0;36mdrop\u001b[0;34m(self, labels, axis, index, columns, level, inplace, errors)\u001b[0m\n\u001b[1;32m   3927\u001b[0m         \u001b[0;32melse\u001b[0m\u001b[0;34m:\u001b[0m\u001b[0;34m\u001b[0m\u001b[0;34m\u001b[0m\u001b[0m\n\u001b[1;32m   3928\u001b[0m             raise ValueError(\n\u001b[0;32m-> 3929\u001b[0;31m                 \u001b[0;34m\"Need to specify at least one of 'labels', 'index' or 'columns'\"\u001b[0m\u001b[0;34m\u001b[0m\u001b[0;34m\u001b[0m\u001b[0m\n\u001b[0m\u001b[1;32m   3930\u001b[0m             )\n\u001b[1;32m   3931\u001b[0m \u001b[0;34m\u001b[0m\u001b[0m\n",
            "\u001b[0;31mValueError\u001b[0m: Need to specify at least one of 'labels', 'index' or 'columns'"
          ]
        }
      ]
    },
    {
      "cell_type": "markdown",
      "metadata": {
        "id": "w7l1hsUkPQyQ"
      },
      "source": [
        "# Exercícios com base de dados fictícia (toy dataset)\n"
      ]
    },
    {
      "cell_type": "markdown",
      "metadata": {
        "id": "i9OLMWs_PjTf"
      },
      "source": [
        "Execute o bloco de código abaixo para realizar o download de uma pequena base de dados que será utilizada para os próximos experimentos. A base de dados poderá ser acessada através do arquivo toy_dataset.csv. Caso a sessão se encerre, re-execute essa célula de código."
      ]
    },
    {
      "cell_type": "code",
      "metadata": {
        "id": "G7RIh89dPmxa",
        "colab": {
          "base_uri": "https://localhost:8080/",
          "height": 104
        },
        "outputId": "86e522a5-4535-48d8-d069-18f73d67c36e"
      },
      "source": [
        "!pip install -q kaggle\n",
        "import os\n",
        "os.environ['KAGGLE_USERNAME'] = \"dayvidwelles\"\n",
        "os.environ['KAGGLE_KEY'] = \"52be91b22529e7b4599d5fa9d96115cd\"\n",
        "\n",
        "!kaggle datasets download -d carlolepelaars/toy-dataset\n",
        "!unzip toy-dataset.zip"
      ],
      "execution_count": null,
      "outputs": [
        {
          "output_type": "stream",
          "text": [
            "Downloading toy-dataset.zip to /content\n",
            "\r  0% 0.00/1.13M [00:00<?, ?B/s]\n",
            "\r100% 1.13M/1.13M [00:00<00:00, 78.5MB/s]\n",
            "Archive:  toy-dataset.zip\n",
            "  inflating: toy_dataset.csv         \n"
          ],
          "name": "stdout"
        }
      ]
    },
    {
      "cell_type": "markdown",
      "metadata": {
        "id": "LuJM7X5iPw-5"
      },
      "source": [
        "Execute a leitura do Toy Dataset diretamente em um dataframe.\n",
        "\n"
      ]
    },
    {
      "cell_type": "code",
      "metadata": {
        "id": "8ni1TwpEPxwg",
        "colab": {
          "base_uri": "https://localhost:8080/",
          "height": 202
        },
        "outputId": "f6a8efc5-9616-4964-fa56-382733701825"
      },
      "source": [
        "df = pd.read_csv('/content/toy_dataset.csv')\n",
        "df.head()"
      ],
      "execution_count": null,
      "outputs": [
        {
          "output_type": "execute_result",
          "data": {
            "text/html": [
              "<div>\n",
              "<style scoped>\n",
              "    .dataframe tbody tr th:only-of-type {\n",
              "        vertical-align: middle;\n",
              "    }\n",
              "\n",
              "    .dataframe tbody tr th {\n",
              "        vertical-align: top;\n",
              "    }\n",
              "\n",
              "    .dataframe thead th {\n",
              "        text-align: right;\n",
              "    }\n",
              "</style>\n",
              "<table border=\"1\" class=\"dataframe\">\n",
              "  <thead>\n",
              "    <tr style=\"text-align: right;\">\n",
              "      <th></th>\n",
              "      <th>Number</th>\n",
              "      <th>City</th>\n",
              "      <th>Gender</th>\n",
              "      <th>Age</th>\n",
              "      <th>Income</th>\n",
              "      <th>Illness</th>\n",
              "    </tr>\n",
              "  </thead>\n",
              "  <tbody>\n",
              "    <tr>\n",
              "      <th>0</th>\n",
              "      <td>1</td>\n",
              "      <td>Dallas</td>\n",
              "      <td>Male</td>\n",
              "      <td>41</td>\n",
              "      <td>40367.0</td>\n",
              "      <td>No</td>\n",
              "    </tr>\n",
              "    <tr>\n",
              "      <th>1</th>\n",
              "      <td>2</td>\n",
              "      <td>Dallas</td>\n",
              "      <td>Male</td>\n",
              "      <td>54</td>\n",
              "      <td>45084.0</td>\n",
              "      <td>No</td>\n",
              "    </tr>\n",
              "    <tr>\n",
              "      <th>2</th>\n",
              "      <td>3</td>\n",
              "      <td>Dallas</td>\n",
              "      <td>Male</td>\n",
              "      <td>42</td>\n",
              "      <td>52483.0</td>\n",
              "      <td>No</td>\n",
              "    </tr>\n",
              "    <tr>\n",
              "      <th>3</th>\n",
              "      <td>4</td>\n",
              "      <td>Dallas</td>\n",
              "      <td>Male</td>\n",
              "      <td>40</td>\n",
              "      <td>40941.0</td>\n",
              "      <td>No</td>\n",
              "    </tr>\n",
              "    <tr>\n",
              "      <th>4</th>\n",
              "      <td>5</td>\n",
              "      <td>Dallas</td>\n",
              "      <td>Male</td>\n",
              "      <td>46</td>\n",
              "      <td>50289.0</td>\n",
              "      <td>No</td>\n",
              "    </tr>\n",
              "  </tbody>\n",
              "</table>\n",
              "</div>"
            ],
            "text/plain": [
              "   Number    City Gender  Age   Income Illness\n",
              "0       1  Dallas   Male   41  40367.0      No\n",
              "1       2  Dallas   Male   54  45084.0      No\n",
              "2       3  Dallas   Male   42  52483.0      No\n",
              "3       4  Dallas   Male   40  40941.0      No\n",
              "4       5  Dallas   Male   46  50289.0      No"
            ]
          },
          "metadata": {
            "tags": []
          },
          "execution_count": 4
        }
      ]
    },
    {
      "cell_type": "markdown",
      "metadata": {
        "id": "G9yE0Z3uQszw"
      },
      "source": [
        "Exiba o tipo de dados de cada coluna do dataframe.\n",
        "\n"
      ]
    },
    {
      "cell_type": "code",
      "metadata": {
        "id": "KqFC48H3Qvc0",
        "colab": {
          "base_uri": "https://localhost:8080/",
          "height": 138
        },
        "outputId": "d5840bf6-730f-4a15-99f9-5f5271c8cbe8"
      },
      "source": [
        "df.dtypes"
      ],
      "execution_count": null,
      "outputs": [
        {
          "output_type": "execute_result",
          "data": {
            "text/plain": [
              "Number       int64\n",
              "City        object\n",
              "Gender      object\n",
              "Age          int64\n",
              "Income     float64\n",
              "Illness     object\n",
              "dtype: object"
            ]
          },
          "metadata": {
            "tags": []
          },
          "execution_count": 5
        }
      ]
    },
    {
      "cell_type": "markdown",
      "metadata": {
        "id": "aFiLA4-oQ8OV"
      },
      "source": [
        "18 - Realize as seguintes operações:\n",
        "\n",
        "Adicione uma nova coluna chamada NumberAge e que apresente a soma entre os valores da coluna Number com os valores da coluna Age.\n",
        "Exiba o cabeçalho do dataframe resultante.\n",
        "Remova a coluna NumberAge.\n",
        "Exiba o cabeçalho do dataframe resultante."
      ]
    },
    {
      "cell_type": "code",
      "metadata": {
        "id": "0qw8pS28Q-a4",
        "colab": {
          "base_uri": "https://localhost:8080/",
          "height": 202
        },
        "outputId": "27f8babf-cc0c-409a-92c3-6c90eb5c980f"
      },
      "source": [
        "df['NumberAge'] = df['Number'] + df['Age']\n",
        "df.head()"
      ],
      "execution_count": null,
      "outputs": [
        {
          "output_type": "execute_result",
          "data": {
            "text/html": [
              "<div>\n",
              "<style scoped>\n",
              "    .dataframe tbody tr th:only-of-type {\n",
              "        vertical-align: middle;\n",
              "    }\n",
              "\n",
              "    .dataframe tbody tr th {\n",
              "        vertical-align: top;\n",
              "    }\n",
              "\n",
              "    .dataframe thead th {\n",
              "        text-align: right;\n",
              "    }\n",
              "</style>\n",
              "<table border=\"1\" class=\"dataframe\">\n",
              "  <thead>\n",
              "    <tr style=\"text-align: right;\">\n",
              "      <th></th>\n",
              "      <th>Number</th>\n",
              "      <th>City</th>\n",
              "      <th>Gender</th>\n",
              "      <th>Age</th>\n",
              "      <th>Income</th>\n",
              "      <th>Illness</th>\n",
              "      <th>NumberAge</th>\n",
              "    </tr>\n",
              "  </thead>\n",
              "  <tbody>\n",
              "    <tr>\n",
              "      <th>0</th>\n",
              "      <td>1</td>\n",
              "      <td>Dallas</td>\n",
              "      <td>Male</td>\n",
              "      <td>41</td>\n",
              "      <td>40367.0</td>\n",
              "      <td>No</td>\n",
              "      <td>42</td>\n",
              "    </tr>\n",
              "    <tr>\n",
              "      <th>1</th>\n",
              "      <td>2</td>\n",
              "      <td>Dallas</td>\n",
              "      <td>Male</td>\n",
              "      <td>54</td>\n",
              "      <td>45084.0</td>\n",
              "      <td>No</td>\n",
              "      <td>56</td>\n",
              "    </tr>\n",
              "    <tr>\n",
              "      <th>2</th>\n",
              "      <td>3</td>\n",
              "      <td>Dallas</td>\n",
              "      <td>Male</td>\n",
              "      <td>42</td>\n",
              "      <td>52483.0</td>\n",
              "      <td>No</td>\n",
              "      <td>45</td>\n",
              "    </tr>\n",
              "    <tr>\n",
              "      <th>3</th>\n",
              "      <td>4</td>\n",
              "      <td>Dallas</td>\n",
              "      <td>Male</td>\n",
              "      <td>40</td>\n",
              "      <td>40941.0</td>\n",
              "      <td>No</td>\n",
              "      <td>44</td>\n",
              "    </tr>\n",
              "    <tr>\n",
              "      <th>4</th>\n",
              "      <td>5</td>\n",
              "      <td>Dallas</td>\n",
              "      <td>Male</td>\n",
              "      <td>46</td>\n",
              "      <td>50289.0</td>\n",
              "      <td>No</td>\n",
              "      <td>51</td>\n",
              "    </tr>\n",
              "  </tbody>\n",
              "</table>\n",
              "</div>"
            ],
            "text/plain": [
              "   Number    City Gender  Age   Income Illness  NumberAge\n",
              "0       1  Dallas   Male   41  40367.0      No         42\n",
              "1       2  Dallas   Male   54  45084.0      No         56\n",
              "2       3  Dallas   Male   42  52483.0      No         45\n",
              "3       4  Dallas   Male   40  40941.0      No         44\n",
              "4       5  Dallas   Male   46  50289.0      No         51"
            ]
          },
          "metadata": {
            "tags": []
          },
          "execution_count": 6
        }
      ]
    },
    {
      "cell_type": "code",
      "metadata": {
        "id": "NHpW5CCkRifd",
        "colab": {
          "base_uri": "https://localhost:8080/",
          "height": 202
        },
        "outputId": "11aeb7bc-74d3-49e2-8f46-8f3de65669a7"
      },
      "source": [
        "del df['NumberAge']\n",
        "df.head()"
      ],
      "execution_count": null,
      "outputs": [
        {
          "output_type": "execute_result",
          "data": {
            "text/html": [
              "<div>\n",
              "<style scoped>\n",
              "    .dataframe tbody tr th:only-of-type {\n",
              "        vertical-align: middle;\n",
              "    }\n",
              "\n",
              "    .dataframe tbody tr th {\n",
              "        vertical-align: top;\n",
              "    }\n",
              "\n",
              "    .dataframe thead th {\n",
              "        text-align: right;\n",
              "    }\n",
              "</style>\n",
              "<table border=\"1\" class=\"dataframe\">\n",
              "  <thead>\n",
              "    <tr style=\"text-align: right;\">\n",
              "      <th></th>\n",
              "      <th>Number</th>\n",
              "      <th>City</th>\n",
              "      <th>Gender</th>\n",
              "      <th>Age</th>\n",
              "      <th>Income</th>\n",
              "      <th>Illness</th>\n",
              "    </tr>\n",
              "  </thead>\n",
              "  <tbody>\n",
              "    <tr>\n",
              "      <th>0</th>\n",
              "      <td>1</td>\n",
              "      <td>Dallas</td>\n",
              "      <td>Male</td>\n",
              "      <td>41</td>\n",
              "      <td>40367.0</td>\n",
              "      <td>No</td>\n",
              "    </tr>\n",
              "    <tr>\n",
              "      <th>1</th>\n",
              "      <td>2</td>\n",
              "      <td>Dallas</td>\n",
              "      <td>Male</td>\n",
              "      <td>54</td>\n",
              "      <td>45084.0</td>\n",
              "      <td>No</td>\n",
              "    </tr>\n",
              "    <tr>\n",
              "      <th>2</th>\n",
              "      <td>3</td>\n",
              "      <td>Dallas</td>\n",
              "      <td>Male</td>\n",
              "      <td>42</td>\n",
              "      <td>52483.0</td>\n",
              "      <td>No</td>\n",
              "    </tr>\n",
              "    <tr>\n",
              "      <th>3</th>\n",
              "      <td>4</td>\n",
              "      <td>Dallas</td>\n",
              "      <td>Male</td>\n",
              "      <td>40</td>\n",
              "      <td>40941.0</td>\n",
              "      <td>No</td>\n",
              "    </tr>\n",
              "    <tr>\n",
              "      <th>4</th>\n",
              "      <td>5</td>\n",
              "      <td>Dallas</td>\n",
              "      <td>Male</td>\n",
              "      <td>46</td>\n",
              "      <td>50289.0</td>\n",
              "      <td>No</td>\n",
              "    </tr>\n",
              "  </tbody>\n",
              "</table>\n",
              "</div>"
            ],
            "text/plain": [
              "   Number    City Gender  Age   Income Illness\n",
              "0       1  Dallas   Male   41  40367.0      No\n",
              "1       2  Dallas   Male   54  45084.0      No\n",
              "2       3  Dallas   Male   42  52483.0      No\n",
              "3       4  Dallas   Male   40  40941.0      No\n",
              "4       5  Dallas   Male   46  50289.0      No"
            ]
          },
          "metadata": {
            "tags": []
          },
          "execution_count": 7
        }
      ]
    },
    {
      "cell_type": "markdown",
      "metadata": {
        "id": "nArkg-HoRk7z"
      },
      "source": [
        "19 - Realize as seguintes operações a partir do dataframe definido anteriormente:\n",
        "\n",
        "Exiba as cinco primeiras linhas do dataframe, todos os atributos devem ser apresentados com exceção do primeiro e último.\n",
        "\n",
        "Exiba as cinco últimas linhas do dataframe, exiba somente o atributo City."
      ]
    },
    {
      "cell_type": "markdown",
      "metadata": {
        "id": "O5jdSkekRwp9"
      },
      "source": [
        "19 - Realize as seguintes operações a partir do dataframe definido anteriormente:\n",
        "\n",
        "Exiba as cinco primeiras linhas do dataframe, todos os atributos devem ser apresentados com exceção do primeiro e último.\n",
        "\n",
        "Exiba as cinco últimas linhas do dataframe, exiba somente o atributo City."
      ]
    },
    {
      "cell_type": "code",
      "metadata": {
        "id": "1BWVsehnRvEU",
        "colab": {
          "base_uri": "https://localhost:8080/",
          "height": 202
        },
        "outputId": "f3efa687-6d37-43d5-addd-fb301e3bd325"
      },
      "source": [
        "df.iloc[:5, 1:5]"
      ],
      "execution_count": null,
      "outputs": [
        {
          "output_type": "execute_result",
          "data": {
            "text/html": [
              "<div>\n",
              "<style scoped>\n",
              "    .dataframe tbody tr th:only-of-type {\n",
              "        vertical-align: middle;\n",
              "    }\n",
              "\n",
              "    .dataframe tbody tr th {\n",
              "        vertical-align: top;\n",
              "    }\n",
              "\n",
              "    .dataframe thead th {\n",
              "        text-align: right;\n",
              "    }\n",
              "</style>\n",
              "<table border=\"1\" class=\"dataframe\">\n",
              "  <thead>\n",
              "    <tr style=\"text-align: right;\">\n",
              "      <th></th>\n",
              "      <th>City</th>\n",
              "      <th>Gender</th>\n",
              "      <th>Age</th>\n",
              "      <th>Income</th>\n",
              "    </tr>\n",
              "  </thead>\n",
              "  <tbody>\n",
              "    <tr>\n",
              "      <th>0</th>\n",
              "      <td>Dallas</td>\n",
              "      <td>Male</td>\n",
              "      <td>41</td>\n",
              "      <td>40367.0</td>\n",
              "    </tr>\n",
              "    <tr>\n",
              "      <th>1</th>\n",
              "      <td>Dallas</td>\n",
              "      <td>Male</td>\n",
              "      <td>54</td>\n",
              "      <td>45084.0</td>\n",
              "    </tr>\n",
              "    <tr>\n",
              "      <th>2</th>\n",
              "      <td>Dallas</td>\n",
              "      <td>Male</td>\n",
              "      <td>42</td>\n",
              "      <td>52483.0</td>\n",
              "    </tr>\n",
              "    <tr>\n",
              "      <th>3</th>\n",
              "      <td>Dallas</td>\n",
              "      <td>Male</td>\n",
              "      <td>40</td>\n",
              "      <td>40941.0</td>\n",
              "    </tr>\n",
              "    <tr>\n",
              "      <th>4</th>\n",
              "      <td>Dallas</td>\n",
              "      <td>Male</td>\n",
              "      <td>46</td>\n",
              "      <td>50289.0</td>\n",
              "    </tr>\n",
              "  </tbody>\n",
              "</table>\n",
              "</div>"
            ],
            "text/plain": [
              "     City Gender  Age   Income\n",
              "0  Dallas   Male   41  40367.0\n",
              "1  Dallas   Male   54  45084.0\n",
              "2  Dallas   Male   42  52483.0\n",
              "3  Dallas   Male   40  40941.0\n",
              "4  Dallas   Male   46  50289.0"
            ]
          },
          "metadata": {
            "tags": []
          },
          "execution_count": 8
        }
      ]
    },
    {
      "cell_type": "code",
      "metadata": {
        "id": "jKxVpRjnSjU3",
        "colab": {
          "base_uri": "https://localhost:8080/",
          "height": 34
        },
        "outputId": "a6a1b04c-c558-4119-a2e3-bd2e48800342"
      },
      "source": [
        "np.unique(df.iloc[-5:, 1:2]['City'])[0]"
      ],
      "execution_count": null,
      "outputs": [
        {
          "output_type": "execute_result",
          "data": {
            "text/plain": [
              "'Austin'"
            ]
          },
          "metadata": {
            "tags": []
          },
          "execution_count": 9
        }
      ]
    },
    {
      "cell_type": "code",
      "metadata": {
        "id": "8Tkkohv3SrSD",
        "colab": {
          "base_uri": "https://localhost:8080/",
          "height": 34
        },
        "outputId": "f2e858c1-8a60-4d3c-aae2-8b5a045a9e69"
      },
      "source": [
        "df.iloc[-5:, 1:2]['City'].iloc[1]"
      ],
      "execution_count": null,
      "outputs": [
        {
          "output_type": "execute_result",
          "data": {
            "text/plain": [
              "'Austin'"
            ]
          },
          "metadata": {
            "tags": []
          },
          "execution_count": 10
        }
      ]
    },
    {
      "cell_type": "markdown",
      "metadata": {
        "id": "jQLEe3cbS-3g"
      },
      "source": [
        "Ordene de forma ascendente as amostras de acordo utilizando como critério o salário anual. Em seguida, resete os índices dos registros.\n",
        "\n"
      ]
    },
    {
      "cell_type": "code",
      "metadata": {
        "id": "7qMZiUsES_lt",
        "colab": {
          "base_uri": "https://localhost:8080/",
          "height": 202
        },
        "outputId": "fcd5413d-5a6c-4520-fccb-e08a0eae416a"
      },
      "source": [
        "df.head()"
      ],
      "execution_count": null,
      "outputs": [
        {
          "output_type": "execute_result",
          "data": {
            "text/html": [
              "<div>\n",
              "<style scoped>\n",
              "    .dataframe tbody tr th:only-of-type {\n",
              "        vertical-align: middle;\n",
              "    }\n",
              "\n",
              "    .dataframe tbody tr th {\n",
              "        vertical-align: top;\n",
              "    }\n",
              "\n",
              "    .dataframe thead th {\n",
              "        text-align: right;\n",
              "    }\n",
              "</style>\n",
              "<table border=\"1\" class=\"dataframe\">\n",
              "  <thead>\n",
              "    <tr style=\"text-align: right;\">\n",
              "      <th></th>\n",
              "      <th>Number</th>\n",
              "      <th>City</th>\n",
              "      <th>Gender</th>\n",
              "      <th>Age</th>\n",
              "      <th>Income</th>\n",
              "      <th>Illness</th>\n",
              "    </tr>\n",
              "  </thead>\n",
              "  <tbody>\n",
              "    <tr>\n",
              "      <th>0</th>\n",
              "      <td>1</td>\n",
              "      <td>Dallas</td>\n",
              "      <td>Male</td>\n",
              "      <td>41</td>\n",
              "      <td>40367.0</td>\n",
              "      <td>No</td>\n",
              "    </tr>\n",
              "    <tr>\n",
              "      <th>1</th>\n",
              "      <td>2</td>\n",
              "      <td>Dallas</td>\n",
              "      <td>Male</td>\n",
              "      <td>54</td>\n",
              "      <td>45084.0</td>\n",
              "      <td>No</td>\n",
              "    </tr>\n",
              "    <tr>\n",
              "      <th>2</th>\n",
              "      <td>3</td>\n",
              "      <td>Dallas</td>\n",
              "      <td>Male</td>\n",
              "      <td>42</td>\n",
              "      <td>52483.0</td>\n",
              "      <td>No</td>\n",
              "    </tr>\n",
              "    <tr>\n",
              "      <th>3</th>\n",
              "      <td>4</td>\n",
              "      <td>Dallas</td>\n",
              "      <td>Male</td>\n",
              "      <td>40</td>\n",
              "      <td>40941.0</td>\n",
              "      <td>No</td>\n",
              "    </tr>\n",
              "    <tr>\n",
              "      <th>4</th>\n",
              "      <td>5</td>\n",
              "      <td>Dallas</td>\n",
              "      <td>Male</td>\n",
              "      <td>46</td>\n",
              "      <td>50289.0</td>\n",
              "      <td>No</td>\n",
              "    </tr>\n",
              "  </tbody>\n",
              "</table>\n",
              "</div>"
            ],
            "text/plain": [
              "   Number    City Gender  Age   Income Illness\n",
              "0       1  Dallas   Male   41  40367.0      No\n",
              "1       2  Dallas   Male   54  45084.0      No\n",
              "2       3  Dallas   Male   42  52483.0      No\n",
              "3       4  Dallas   Male   40  40941.0      No\n",
              "4       5  Dallas   Male   46  50289.0      No"
            ]
          },
          "metadata": {
            "tags": []
          },
          "execution_count": 11
        }
      ]
    },
    {
      "cell_type": "code",
      "metadata": {
        "id": "3aIAUd-cTFvw"
      },
      "source": [
        "df.sort_values('Income', inplace=True)"
      ],
      "execution_count": null,
      "outputs": []
    },
    {
      "cell_type": "code",
      "metadata": {
        "id": "n44dQPu9TO3Y",
        "colab": {
          "base_uri": "https://localhost:8080/",
          "height": 202
        },
        "outputId": "3579060f-7942-45bd-d8bc-826355850368"
      },
      "source": [
        "df.head()"
      ],
      "execution_count": null,
      "outputs": [
        {
          "output_type": "execute_result",
          "data": {
            "text/html": [
              "<div>\n",
              "<style scoped>\n",
              "    .dataframe tbody tr th:only-of-type {\n",
              "        vertical-align: middle;\n",
              "    }\n",
              "\n",
              "    .dataframe tbody tr th {\n",
              "        vertical-align: top;\n",
              "    }\n",
              "\n",
              "    .dataframe thead th {\n",
              "        text-align: right;\n",
              "    }\n",
              "</style>\n",
              "<table border=\"1\" class=\"dataframe\">\n",
              "  <thead>\n",
              "    <tr style=\"text-align: right;\">\n",
              "      <th></th>\n",
              "      <th>Number</th>\n",
              "      <th>City</th>\n",
              "      <th>Gender</th>\n",
              "      <th>Age</th>\n",
              "      <th>Income</th>\n",
              "      <th>Illness</th>\n",
              "    </tr>\n",
              "  </thead>\n",
              "  <tbody>\n",
              "    <tr>\n",
              "      <th>245</th>\n",
              "      <td>246</td>\n",
              "      <td>Dallas</td>\n",
              "      <td>Female</td>\n",
              "      <td>40</td>\n",
              "      <td>-654.0</td>\n",
              "      <td>Yes</td>\n",
              "    </tr>\n",
              "    <tr>\n",
              "      <th>7896</th>\n",
              "      <td>7897</td>\n",
              "      <td>Dallas</td>\n",
              "      <td>Female</td>\n",
              "      <td>34</td>\n",
              "      <td>584.0</td>\n",
              "      <td>No</td>\n",
              "    </tr>\n",
              "    <tr>\n",
              "      <th>18484</th>\n",
              "      <td>18485</td>\n",
              "      <td>Dallas</td>\n",
              "      <td>Female</td>\n",
              "      <td>43</td>\n",
              "      <td>2474.0</td>\n",
              "      <td>No</td>\n",
              "    </tr>\n",
              "    <tr>\n",
              "      <th>9298</th>\n",
              "      <td>9299</td>\n",
              "      <td>Dallas</td>\n",
              "      <td>Female</td>\n",
              "      <td>31</td>\n",
              "      <td>2667.0</td>\n",
              "      <td>Yes</td>\n",
              "    </tr>\n",
              "    <tr>\n",
              "      <th>17135</th>\n",
              "      <td>17136</td>\n",
              "      <td>Dallas</td>\n",
              "      <td>Female</td>\n",
              "      <td>39</td>\n",
              "      <td>3842.0</td>\n",
              "      <td>No</td>\n",
              "    </tr>\n",
              "  </tbody>\n",
              "</table>\n",
              "</div>"
            ],
            "text/plain": [
              "       Number    City  Gender  Age  Income Illness\n",
              "245       246  Dallas  Female   40  -654.0     Yes\n",
              "7896     7897  Dallas  Female   34   584.0      No\n",
              "18484   18485  Dallas  Female   43  2474.0      No\n",
              "9298     9299  Dallas  Female   31  2667.0     Yes\n",
              "17135   17136  Dallas  Female   39  3842.0      No"
            ]
          },
          "metadata": {
            "tags": []
          },
          "execution_count": 15
        }
      ]
    },
    {
      "cell_type": "code",
      "metadata": {
        "id": "rT1cdrrDTUpe"
      },
      "source": [
        "df.reset_index(inplace=True, drop=True)"
      ],
      "execution_count": null,
      "outputs": []
    },
    {
      "cell_type": "code",
      "metadata": {
        "id": "QI6qUAsCTXMb",
        "colab": {
          "base_uri": "https://localhost:8080/",
          "height": 202
        },
        "outputId": "37fc7118-bf92-45e5-e158-45b32ae94060"
      },
      "source": [
        "df.head()"
      ],
      "execution_count": null,
      "outputs": [
        {
          "output_type": "execute_result",
          "data": {
            "text/html": [
              "<div>\n",
              "<style scoped>\n",
              "    .dataframe tbody tr th:only-of-type {\n",
              "        vertical-align: middle;\n",
              "    }\n",
              "\n",
              "    .dataframe tbody tr th {\n",
              "        vertical-align: top;\n",
              "    }\n",
              "\n",
              "    .dataframe thead th {\n",
              "        text-align: right;\n",
              "    }\n",
              "</style>\n",
              "<table border=\"1\" class=\"dataframe\">\n",
              "  <thead>\n",
              "    <tr style=\"text-align: right;\">\n",
              "      <th></th>\n",
              "      <th>Number</th>\n",
              "      <th>City</th>\n",
              "      <th>Gender</th>\n",
              "      <th>Age</th>\n",
              "      <th>Income</th>\n",
              "      <th>Illness</th>\n",
              "    </tr>\n",
              "  </thead>\n",
              "  <tbody>\n",
              "    <tr>\n",
              "      <th>0</th>\n",
              "      <td>246</td>\n",
              "      <td>Dallas</td>\n",
              "      <td>Female</td>\n",
              "      <td>40</td>\n",
              "      <td>-654.0</td>\n",
              "      <td>Yes</td>\n",
              "    </tr>\n",
              "    <tr>\n",
              "      <th>1</th>\n",
              "      <td>7897</td>\n",
              "      <td>Dallas</td>\n",
              "      <td>Female</td>\n",
              "      <td>34</td>\n",
              "      <td>584.0</td>\n",
              "      <td>No</td>\n",
              "    </tr>\n",
              "    <tr>\n",
              "      <th>2</th>\n",
              "      <td>18485</td>\n",
              "      <td>Dallas</td>\n",
              "      <td>Female</td>\n",
              "      <td>43</td>\n",
              "      <td>2474.0</td>\n",
              "      <td>No</td>\n",
              "    </tr>\n",
              "    <tr>\n",
              "      <th>3</th>\n",
              "      <td>9299</td>\n",
              "      <td>Dallas</td>\n",
              "      <td>Female</td>\n",
              "      <td>31</td>\n",
              "      <td>2667.0</td>\n",
              "      <td>Yes</td>\n",
              "    </tr>\n",
              "    <tr>\n",
              "      <th>4</th>\n",
              "      <td>17136</td>\n",
              "      <td>Dallas</td>\n",
              "      <td>Female</td>\n",
              "      <td>39</td>\n",
              "      <td>3842.0</td>\n",
              "      <td>No</td>\n",
              "    </tr>\n",
              "  </tbody>\n",
              "</table>\n",
              "</div>"
            ],
            "text/plain": [
              "   Number    City  Gender  Age  Income Illness\n",
              "0     246  Dallas  Female   40  -654.0     Yes\n",
              "1    7897  Dallas  Female   34   584.0      No\n",
              "2   18485  Dallas  Female   43  2474.0      No\n",
              "3    9299  Dallas  Female   31  2667.0     Yes\n",
              "4   17136  Dallas  Female   39  3842.0      No"
            ]
          },
          "metadata": {
            "tags": []
          },
          "execution_count": 17
        }
      ]
    },
    {
      "cell_type": "markdown",
      "metadata": {
        "id": "pQMBX5aiUS65"
      },
      "source": [
        "Início da aula do dia 9 de maio"
      ]
    },
    {
      "cell_type": "code",
      "metadata": {
        "id": "U_b4Vj9XUWKN"
      },
      "source": [
        "26 - Quantas pessoas tem um salário anual maior que R$ 30000?\n",
        "\n"
      ],
      "execution_count": null,
      "outputs": []
    },
    {
      "cell_type": "code",
      "metadata": {
        "id": "9kZ3SGppUcq4",
        "colab": {
          "base_uri": "https://localhost:8080/",
          "height": 34
        },
        "outputId": "8a60bb73-9274-419f-c751-b12f8d837646"
      },
      "source": [
        "len(df[df['Income'] > 30000])"
      ],
      "execution_count": null,
      "outputs": [
        {
          "output_type": "execute_result",
          "data": {
            "text/plain": [
              "148218"
            ]
          },
          "metadata": {
            "tags": []
          },
          "execution_count": 18
        }
      ]
    },
    {
      "cell_type": "markdown",
      "metadata": {
        "id": "ljXcMxOEUe-g"
      },
      "source": [
        "Quantas pessoas estão doentes?\n",
        "\n"
      ]
    },
    {
      "cell_type": "code",
      "metadata": {
        "id": "VIjRQD3QUfqy"
      },
      "source": [
        "len(df[df['Illness'] == 'Yes'])"
      ],
      "execution_count": null,
      "outputs": []
    },
    {
      "cell_type": "code",
      "metadata": {
        "id": "2ZeJL-igVLbQ",
        "colab": {
          "base_uri": "https://localhost:8080/",
          "height": 34
        },
        "outputId": "99aaec14-c543-4b67-945a-8ebca0b0643f"
      },
      "source": [
        "len(df[(df['Age'] == df['Age'].min()) & ((df['Income'] >= 40000) & (df['Income'] <= 42000))])"
      ],
      "execution_count": null,
      "outputs": [
        {
          "output_type": "execute_result",
          "data": {
            "text/plain": [
              "20"
            ]
          },
          "metadata": {
            "tags": []
          },
          "execution_count": 20
        }
      ]
    },
    {
      "cell_type": "code",
      "metadata": {
        "id": "SQFvablGVO_v",
        "colab": {
          "base_uri": "https://localhost:8080/",
          "height": 202
        },
        "outputId": "a8f7f644-4fa9-498f-8327-a89d6053585f"
      },
      "source": [
        "df[(df['City'] == 'Austin') & (df['Age'] < 26)].head(5)"
      ],
      "execution_count": null,
      "outputs": [
        {
          "output_type": "execute_result",
          "data": {
            "text/html": [
              "<div>\n",
              "<style scoped>\n",
              "    .dataframe tbody tr th:only-of-type {\n",
              "        vertical-align: middle;\n",
              "    }\n",
              "\n",
              "    .dataframe tbody tr th {\n",
              "        vertical-align: top;\n",
              "    }\n",
              "\n",
              "    .dataframe thead th {\n",
              "        text-align: right;\n",
              "    }\n",
              "</style>\n",
              "<table border=\"1\" class=\"dataframe\">\n",
              "  <thead>\n",
              "    <tr style=\"text-align: right;\">\n",
              "      <th></th>\n",
              "      <th>Number</th>\n",
              "      <th>City</th>\n",
              "      <th>Gender</th>\n",
              "      <th>Age</th>\n",
              "      <th>Income</th>\n",
              "      <th>Illness</th>\n",
              "    </tr>\n",
              "  </thead>\n",
              "  <tbody>\n",
              "    <tr>\n",
              "      <th>22736</th>\n",
              "      <td>149888</td>\n",
              "      <td>Austin</td>\n",
              "      <td>Female</td>\n",
              "      <td>25</td>\n",
              "      <td>66847.0</td>\n",
              "      <td>No</td>\n",
              "    </tr>\n",
              "    <tr>\n",
              "      <th>23073</th>\n",
              "      <td>144554</td>\n",
              "      <td>Austin</td>\n",
              "      <td>Male</td>\n",
              "      <td>25</td>\n",
              "      <td>67468.0</td>\n",
              "      <td>No</td>\n",
              "    </tr>\n",
              "    <tr>\n",
              "      <th>23489</th>\n",
              "      <td>147407</td>\n",
              "      <td>Austin</td>\n",
              "      <td>Female</td>\n",
              "      <td>25</td>\n",
              "      <td>68183.0</td>\n",
              "      <td>No</td>\n",
              "    </tr>\n",
              "    <tr>\n",
              "      <th>23560</th>\n",
              "      <td>146850</td>\n",
              "      <td>Austin</td>\n",
              "      <td>Female</td>\n",
              "      <td>25</td>\n",
              "      <td>68323.0</td>\n",
              "      <td>No</td>\n",
              "    </tr>\n",
              "    <tr>\n",
              "      <th>24295</th>\n",
              "      <td>149187</td>\n",
              "      <td>Austin</td>\n",
              "      <td>Female</td>\n",
              "      <td>25</td>\n",
              "      <td>69530.0</td>\n",
              "      <td>No</td>\n",
              "    </tr>\n",
              "  </tbody>\n",
              "</table>\n",
              "</div>"
            ],
            "text/plain": [
              "       Number    City  Gender  Age   Income Illness\n",
              "22736  149888  Austin  Female   25  66847.0      No\n",
              "23073  144554  Austin    Male   25  67468.0      No\n",
              "23489  147407  Austin  Female   25  68183.0      No\n",
              "23560  146850  Austin  Female   25  68323.0      No\n",
              "24295  149187  Austin  Female   25  69530.0      No"
            ]
          },
          "metadata": {
            "tags": []
          },
          "execution_count": 21
        }
      ]
    },
    {
      "cell_type": "code",
      "metadata": {
        "id": "NWREIM87WDaZ",
        "colab": {
          "base_uri": "https://localhost:8080/",
          "height": 294
        },
        "outputId": "d58e348c-acbc-4d05-e39d-999c22a0932e"
      },
      "source": [
        "df.describe()"
      ],
      "execution_count": null,
      "outputs": [
        {
          "output_type": "execute_result",
          "data": {
            "text/html": [
              "<div>\n",
              "<style scoped>\n",
              "    .dataframe tbody tr th:only-of-type {\n",
              "        vertical-align: middle;\n",
              "    }\n",
              "\n",
              "    .dataframe tbody tr th {\n",
              "        vertical-align: top;\n",
              "    }\n",
              "\n",
              "    .dataframe thead th {\n",
              "        text-align: right;\n",
              "    }\n",
              "</style>\n",
              "<table border=\"1\" class=\"dataframe\">\n",
              "  <thead>\n",
              "    <tr style=\"text-align: right;\">\n",
              "      <th></th>\n",
              "      <th>Number</th>\n",
              "      <th>Age</th>\n",
              "      <th>Income</th>\n",
              "    </tr>\n",
              "  </thead>\n",
              "  <tbody>\n",
              "    <tr>\n",
              "      <th>count</th>\n",
              "      <td>150000.000000</td>\n",
              "      <td>150000.000000</td>\n",
              "      <td>150000.000000</td>\n",
              "    </tr>\n",
              "    <tr>\n",
              "      <th>mean</th>\n",
              "      <td>75000.500000</td>\n",
              "      <td>44.950200</td>\n",
              "      <td>91252.798273</td>\n",
              "    </tr>\n",
              "    <tr>\n",
              "      <th>std</th>\n",
              "      <td>43301.414527</td>\n",
              "      <td>11.572486</td>\n",
              "      <td>24989.500948</td>\n",
              "    </tr>\n",
              "    <tr>\n",
              "      <th>min</th>\n",
              "      <td>1.000000</td>\n",
              "      <td>25.000000</td>\n",
              "      <td>-654.000000</td>\n",
              "    </tr>\n",
              "    <tr>\n",
              "      <th>25%</th>\n",
              "      <td>37500.750000</td>\n",
              "      <td>35.000000</td>\n",
              "      <td>80867.750000</td>\n",
              "    </tr>\n",
              "    <tr>\n",
              "      <th>50%</th>\n",
              "      <td>75000.500000</td>\n",
              "      <td>45.000000</td>\n",
              "      <td>93655.000000</td>\n",
              "    </tr>\n",
              "    <tr>\n",
              "      <th>75%</th>\n",
              "      <td>112500.250000</td>\n",
              "      <td>55.000000</td>\n",
              "      <td>104519.000000</td>\n",
              "    </tr>\n",
              "    <tr>\n",
              "      <th>max</th>\n",
              "      <td>150000.000000</td>\n",
              "      <td>65.000000</td>\n",
              "      <td>177157.000000</td>\n",
              "    </tr>\n",
              "  </tbody>\n",
              "</table>\n",
              "</div>"
            ],
            "text/plain": [
              "              Number            Age         Income\n",
              "count  150000.000000  150000.000000  150000.000000\n",
              "mean    75000.500000      44.950200   91252.798273\n",
              "std     43301.414527      11.572486   24989.500948\n",
              "min         1.000000      25.000000    -654.000000\n",
              "25%     37500.750000      35.000000   80867.750000\n",
              "50%     75000.500000      45.000000   93655.000000\n",
              "75%    112500.250000      55.000000  104519.000000\n",
              "max    150000.000000      65.000000  177157.000000"
            ]
          },
          "metadata": {
            "tags": []
          },
          "execution_count": 22
        }
      ]
    },
    {
      "cell_type": "code",
      "metadata": {
        "id": "bz2n9UCmXhmt",
        "colab": {
          "base_uri": "https://localhost:8080/",
          "height": 325
        },
        "outputId": "f4e5ec0d-af43-4169-b7b3-59c770bfe0f3"
      },
      "source": [
        "df[df['Illness'] == 'Yes'][['City', 'Illness']].groupby('City').count()"
      ],
      "execution_count": null,
      "outputs": [
        {
          "output_type": "execute_result",
          "data": {
            "text/html": [
              "<div>\n",
              "<style scoped>\n",
              "    .dataframe tbody tr th:only-of-type {\n",
              "        vertical-align: middle;\n",
              "    }\n",
              "\n",
              "    .dataframe tbody tr th {\n",
              "        vertical-align: top;\n",
              "    }\n",
              "\n",
              "    .dataframe thead th {\n",
              "        text-align: right;\n",
              "    }\n",
              "</style>\n",
              "<table border=\"1\" class=\"dataframe\">\n",
              "  <thead>\n",
              "    <tr style=\"text-align: right;\">\n",
              "      <th></th>\n",
              "      <th>Illness</th>\n",
              "    </tr>\n",
              "    <tr>\n",
              "      <th>City</th>\n",
              "      <th></th>\n",
              "    </tr>\n",
              "  </thead>\n",
              "  <tbody>\n",
              "    <tr>\n",
              "      <th>Austin</th>\n",
              "      <td>1011</td>\n",
              "    </tr>\n",
              "    <tr>\n",
              "      <th>Boston</th>\n",
              "      <td>686</td>\n",
              "    </tr>\n",
              "    <tr>\n",
              "      <th>Dallas</th>\n",
              "      <td>1613</td>\n",
              "    </tr>\n",
              "    <tr>\n",
              "      <th>Los Angeles</th>\n",
              "      <td>2568</td>\n",
              "    </tr>\n",
              "    <tr>\n",
              "      <th>Mountain View</th>\n",
              "      <td>1178</td>\n",
              "    </tr>\n",
              "    <tr>\n",
              "      <th>New York City</th>\n",
              "      <td>4021</td>\n",
              "    </tr>\n",
              "    <tr>\n",
              "      <th>San Diego</th>\n",
              "      <td>394</td>\n",
              "    </tr>\n",
              "    <tr>\n",
              "      <th>Washington D.C.</th>\n",
              "      <td>668</td>\n",
              "    </tr>\n",
              "  </tbody>\n",
              "</table>\n",
              "</div>"
            ],
            "text/plain": [
              "                 Illness\n",
              "City                    \n",
              "Austin              1011\n",
              "Boston               686\n",
              "Dallas              1613\n",
              "Los Angeles         2568\n",
              "Mountain View       1178\n",
              "New York City       4021\n",
              "San Diego            394\n",
              "Washington D.C.      668"
            ]
          },
          "metadata": {
            "tags": []
          },
          "execution_count": 26
        }
      ]
    },
    {
      "cell_type": "markdown",
      "metadata": {
        "id": "hsN-00gkZDpK"
      },
      "source": [
        "Armazene em uma nova variável o agrupamento dos dados do dataframe usado anteriormente tomando como critério o gênero e a cidade, nessa exata ordem. Utilize a média como função de agregação e exiba somente a idade e salário anual.\n"
      ]
    },
    {
      "cell_type": "code",
      "metadata": {
        "id": "4BztnHfIZGfk"
      },
      "source": [
        ""
      ],
      "execution_count": null,
      "outputs": []
    }
  ]
}